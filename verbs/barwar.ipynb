{
 "cells": [
  {
   "cell_type": "markdown",
   "metadata": {},
   "source": [
    "# Narrative Verbs in Barwar\n",
    "### Cody Kingham and Geoffrey Khan\n",
    "\n",
    "<a href=\"https://github.com/CambridgeSemiticsLab\"><img src=\"../docs/images/CambridgeU_BW.png\" height=\"100pt\" width=\"200pt\" align='left'></a>"
   ]
  },
  {
   "cell_type": "code",
   "execution_count": 173,
   "metadata": {},
   "outputs": [
    {
     "name": "stdout",
     "output_type": "stream",
     "text": [
      "last updated\n",
      "Mon  3 Feb 2020 12:03:34 GMT\n"
     ]
    }
   ],
   "source": [
    "! echo \"last updated\"; date"
   ]
  },
  {
   "cell_type": "markdown",
   "metadata": {},
   "source": [
    "## Introduction\n",
    "\n",
    "In the story corpus narratives are told using two past verbal forms: qṭilɛle (perfect) and qṭille (preterite). These forms interchange. It seems the qṭille form clusters around the onset of narratives in a section of narrative that sets the scene and so has a concentration of adverbials.\n",
    "\n",
    "## Research Questions\n",
    "Search for four sets of verbs (i) qṭilɛle form and (ii) qṭille form, (iii) qəm-qaṭəlle, (iv) initial /ʾ/ qaṭəl forms, i.e. qaṭəl forms beginning with ʾa-. \n",
    "\n",
    "Look for the following correlations between each of these groups and:\n",
    "1. How often are such forms clause-initial, i.e. without an explicit subject noun or other constituent before them? This could be established by checking whether the string is immediately preceded by .| or ,|  \n",
    "\n",
    "2. How often are these strings accompanied by an adverbial in the same sentence? Typical narrative adverbials are:\n",
    "\n",
    "```\n",
    "Adverbs containing the word yoma ‘day’ or yome ‘days’ or yomət ‘the day of’\n",
    "b-lɛle ‘at night’\n",
    "qedamta ‘in the morning’\n",
    "mbadla ‘early in the morning’\n",
    "ʾaṣərta ‘in the evening’\n",
    "xarθa ‘afterwards’\n",
    "ga, gaye ‘time, times’\n",
    "xa-ga\n",
    "```\n",
    "\n",
    "## Technical Brief\n",
    "\n",
    "In this notebook, we will use the [NENA text-corpus](https://github.com/CambridgeSemiticsLab/nena_corpus) in a [Text-Fabric format](https://github.com/CambridgeSemiticsLab/nena_tf) (for TF see [here](https://github.com/annotation/text-fabric)). Our corpus contains a number of linguistic encodings which will be useful for the analysis, especially: \n",
    "\n",
    "1. word tokenization\n",
    "2. intonation group boundaries\n",
    "3. sentence tokenization\n",
    "\n",
    "These linguistic units are modeled as nodes within a graph. The nodes have associated features that can be called during the analysis. For example, a word has a plain-text feature that can be called for interacting with string text. The `text-fabric` Python module provides a set of classes and methods for reading in this graph and navigating the nodes and features. We will especially make heavy use of the `F` (\"feature\"), `L` (\"level\"), and `T` (\"text\") classes for navigating features, hierarchical levels, and plain text data.\n",
    "\n",
    "The principle task is to identify verbs of qṭilɛle (perfect) and qṭille (preterite). To do this, we have a list of endings we can expect to find:\n",
    "\n",
    "```\n",
    "(i) For qṭilɛle forms search for strings ending in -ɛle and -ɛla (i.e. 3ms and 3fs). The hyphen means a wild card, i.e. any characters within the same word.\n",
    "\n",
    "(ii) For qṭille forms search for strings ending in -ele, -ela, -ble, -bla, -dle, -dla, -fle, -fla, -gle, -gla, -jle, -jla, -kle, -kla, -mle, -mla, -nne, -nna, -ple, -pla, -qle, -qla, -rre, -rra, -sle, -sla, -ṣle, -ṣla, -tle, -tla, -ṭle, -ṭla, -wle, -wla, -xle, -xla, -zle, -zla. The hyphen means a wild card, i.e. any characters within the same word. This search may pull out lots of inappropriate examples with -L suffixes that are ob-jects, so one way of refining the results would be to add i before consonants, i.e. -ible, -ibla, -idle, -idla etc. The /i/ is the stem vowel of the peʿal form (the basic form).\n",
    "\n",
    "(iii) For qəm-qaṭəlle forms search for forms beginning with qəm- in the results of the search for group (ii).\n",
    "\n",
    "(iv) For qaṭəl forms beginning with ʾa-, I suggest you search for the onsets of the most common verbs ʾazə-, ʾazi (to go), ʾamər, ʾamr- (to say), ʾaθ- (to come), ʾasəq, ʾasq- ‘to go up’, ʾaxəl, ʾaxl- ‘to eat’, ʾarəq, ʾarq- ‘to run’.\n",
    "```\n",
    "\n",
    "For the string matching we can use the `re` Python module. All other rules and processing can be done with Python code. We will seek to store and visualize the resulting data using the standard data science modules: `pandas` and `matplotlib`. \n",
    "\n",
    "<hr>"
   ]
  },
  {
   "cell_type": "markdown",
   "metadata": {},
   "source": [
    "# Python"
   ]
  },
  {
   "cell_type": "code",
   "execution_count": 149,
   "metadata": {},
   "outputs": [
    {
     "name": "stdout",
     "output_type": "stream",
     "text": [
      "\tconnecting to online GitHub repo annotation/app-nena ... connected\n",
      "Using TF-app in /Users/cody/text-fabric-data/annotation/app-nena/code:\n",
      "\t#9ec58f223a6ba6817347279da277c1efadae550a (latest commit)\n",
      "\tconnecting to online GitHub repo CambridgeSemiticsLab/nena_tf ... connected\n",
      "Using data in /Users/cody/text-fabric-data/CambridgeSemiticsLab/nena_tf/tf/0.01:\n",
      "\trv0.032=#dd02c45f4294b97f9ecd8d4c3809aaf4153e2843 (latest release)\n",
      "   |     0.00s No structure info in otext, the structure part of the T-API cannot be used\n"
     ]
    },
    {
     "data": {
      "text/html": [
       "<b>Documentation:</b> <a target=\"_blank\" href=\"https://github.com/CambridgeSemiticsLab/nena_tf/blob/master/docs\" title=\"provenance of Northeastern Neo-Aramaic Text Corpus\">NENA_TF</a> <a target=\"_blank\" href=\"https://github.com/CambridgeSemiticsLab/nena_tf/blob/master/docs/transcription.md\" title=\"('NENA transcription script',)\">Character table</a> <a target=\"_blank\" href=\"https://github.com/CambridgeSemiticsLab/nena_tf/blob/master/docs/features.md#features.md\" title=\"NENA_TF feature documentation\">Feature docs</a> <a target=\"_blank\" href=\"https://github.com/annotation/app-nena\" title=\"nena API documentation\">nena API</a> <a target=\"_blank\" href=\"https://annotation.github.io/text-fabric/Api/Fabric/\" title=\"text-fabric-api\">Text-Fabric API 7.9.0</a> <a target=\"_blank\" href=\"https://annotation.github.io/text-fabric/Use/Search/\" title=\"Search Templates Introduction and Reference\">Search Reference</a><details open><summary><b>Loaded features</b>:</summary>\n",
       "<p><b>Northeastern Neo-Aramaic Text Corpus</b>: <a target=\"_blank\" href=\"https://github.com/CambridgeSemiticsLab/nena_tf/blob/master/docs/features.md#comment\" title=\"/Users/cody/text-fabric-data/CambridgeSemiticsLab/nena_tf/tf/0.01/comment.tf\">comment</a>  <a target=\"_blank\" href=\"https://github.com/CambridgeSemiticsLab/nena_tf/blob/master/docs/features.md#continued_from\" title=\"/Users/cody/text-fabric-data/CambridgeSemiticsLab/nena_tf/tf/0.01/continued_from.tf\">continued_from</a>  <a target=\"_blank\" href=\"https://github.com/CambridgeSemiticsLab/nena_tf/blob/master/docs/features.md#dialect\" title=\"/Users/cody/text-fabric-data/CambridgeSemiticsLab/nena_tf/tf/0.01/dialect.tf\">dialect</a>  <a target=\"_blank\" href=\"https://github.com/CambridgeSemiticsLab/nena_tf/blob/master/docs/features.md#end\" title=\"/Users/cody/text-fabric-data/CambridgeSemiticsLab/nena_tf/tf/0.01/end.tf\">end</a>  <a target=\"_blank\" href=\"https://github.com/CambridgeSemiticsLab/nena_tf/blob/master/docs/features.md#etrans_f\" title=\"/Users/cody/text-fabric-data/CambridgeSemiticsLab/nena_tf/tf/0.01/etrans_f.tf\">etrans_f</a>  <a target=\"_blank\" href=\"https://github.com/CambridgeSemiticsLab/nena_tf/blob/master/docs/features.md#etrans_l\" title=\"/Users/cody/text-fabric-data/CambridgeSemiticsLab/nena_tf/tf/0.01/etrans_l.tf\">etrans_l</a>  <a target=\"_blank\" href=\"https://github.com/CambridgeSemiticsLab/nena_tf/blob/master/docs/features.md#footnotes\" title=\"/Users/cody/text-fabric-data/CambridgeSemiticsLab/nena_tf/tf/0.01/footnotes.tf\">footnotes</a>  <a target=\"_blank\" href=\"https://github.com/CambridgeSemiticsLab/nena_tf/blob/master/docs/features.md#foreign\" title=\"/Users/cody/text-fabric-data/CambridgeSemiticsLab/nena_tf/tf/0.01/foreign.tf\">foreign</a>  <a target=\"_blank\" href=\"https://github.com/CambridgeSemiticsLab/nena_tf/blob/master/docs/features.md#informant\" title=\"/Users/cody/text-fabric-data/CambridgeSemiticsLab/nena_tf/tf/0.01/informant.tf\">informant</a>  <a target=\"_blank\" href=\"https://github.com/CambridgeSemiticsLab/nena_tf/blob/master/docs/features.md#lang\" title=\"/Users/cody/text-fabric-data/CambridgeSemiticsLab/nena_tf/tf/0.01/lang.tf\">lang</a>  <a target=\"_blank\" href=\"https://github.com/CambridgeSemiticsLab/nena_tf/blob/master/docs/features.md#number\" title=\"/Users/cody/text-fabric-data/CambridgeSemiticsLab/nena_tf/tf/0.01/number.tf\">number</a>  <a target=\"_blank\" href=\"https://github.com/CambridgeSemiticsLab/nena_tf/blob/master/docs/features.md#otype\" title=\"/Users/cody/text-fabric-data/CambridgeSemiticsLab/nena_tf/tf/0.01/otype.tf\">otype</a>  <a target=\"_blank\" href=\"https://github.com/CambridgeSemiticsLab/nena_tf/blob/master/docs/features.md#place\" title=\"/Users/cody/text-fabric-data/CambridgeSemiticsLab/nena_tf/tf/0.01/place.tf\">place</a>  <a target=\"_blank\" href=\"https://github.com/CambridgeSemiticsLab/nena_tf/blob/master/docs/features.md#source\" title=\"/Users/cody/text-fabric-data/CambridgeSemiticsLab/nena_tf/tf/0.01/source.tf\">source</a>  <a target=\"_blank\" href=\"https://github.com/CambridgeSemiticsLab/nena_tf/blob/master/docs/features.md#speaker\" title=\"/Users/cody/text-fabric-data/CambridgeSemiticsLab/nena_tf/tf/0.01/speaker.tf\">speaker</a>  <a target=\"_blank\" href=\"https://github.com/CambridgeSemiticsLab/nena_tf/blob/master/docs/features.md#text\" title=\"/Users/cody/text-fabric-data/CambridgeSemiticsLab/nena_tf/tf/0.01/text.tf\">text</a>  <a target=\"_blank\" href=\"https://github.com/CambridgeSemiticsLab/nena_tf/blob/master/docs/features.md#text_id\" title=\"/Users/cody/text-fabric-data/CambridgeSemiticsLab/nena_tf/tf/0.01/text_id.tf\">text_id</a>  <a target=\"_blank\" href=\"https://github.com/CambridgeSemiticsLab/nena_tf/blob/master/docs/features.md#title\" title=\"/Users/cody/text-fabric-data/CambridgeSemiticsLab/nena_tf/tf/0.01/title.tf\">title</a>  <a target=\"_blank\" href=\"https://github.com/CambridgeSemiticsLab/nena_tf/blob/master/docs/features.md#trans_f\" title=\"/Users/cody/text-fabric-data/CambridgeSemiticsLab/nena_tf/tf/0.01/trans_f.tf\">trans_f</a>  <a target=\"_blank\" href=\"https://github.com/CambridgeSemiticsLab/nena_tf/blob/master/docs/features.md#trans_l\" title=\"/Users/cody/text-fabric-data/CambridgeSemiticsLab/nena_tf/tf/0.01/trans_l.tf\">trans_l</a>  <a target=\"_blank\" href=\"https://github.com/CambridgeSemiticsLab/nena_tf/blob/master/docs/features.md#version\" title=\"/Users/cody/text-fabric-data/CambridgeSemiticsLab/nena_tf/tf/0.01/version.tf\">version</a>  <b><i><a target=\"_blank\" href=\"https://github.com/CambridgeSemiticsLab/nena_tf/blob/master/docs/features.md#oslots\" title=\"/Users/cody/text-fabric-data/CambridgeSemiticsLab/nena_tf/tf/0.01/oslots.tf\">oslots</a></i></b> </p></details>"
      ],
      "text/plain": [
       "<IPython.core.display.HTML object>"
      ]
     },
     "metadata": {},
     "output_type": "display_data"
    },
    {
     "data": {
      "text/html": [
       "<style>\n",
       "@font-face {\n",
       "  font-family: \"CharisSIL-R\";\n",
       "  src:\n",
       "    local(\"CharisSIL-R.otf\"),\n",
       "    url(\"https://github.com/annotation/text-fabric/blob/master/tf/server/static/fonts/CharisSIL-R.woff?raw=true\");\n",
       "}\n",
       ".features {\n",
       "    font-family: monospace;\n",
       "    font-size: medium;\n",
       "    font-weight: normal;\n",
       "    color: #000000;\n",
       "    display: flex;\n",
       "    flex-flow: column nowrap;\n",
       "    padding: 0.1em;\n",
       "    margin: 0.1em;\n",
       "    direction: ltr;\n",
       "}\n",
       ".features div,.features span {\n",
       "    padding: 0;\n",
       "    margin: -0.1rem 0;\n",
       "}\n",
       ".features .f {\n",
       "    font-family: sans-serif;\n",
       "    font-size: x-small;\n",
       "    font-weight: normal;\n",
       "    color: #5555bb;\n",
       "}\n",
       ".features .xft {\n",
       "  color: #000000;\n",
       "  background-color: #eeeeee;\n",
       "  font-size: medium;\n",
       "  margin: 0.1em 0em;\n",
       "}\n",
       ".features .xft .f {\n",
       "  color: #000000;\n",
       "  background-color: #eeeeee;\n",
       "  font-style: italic;\n",
       "  font-size: x-small;\n",
       "  font-weight: normal;\n",
       "}\n",
       "\n",
       ".ll {\n",
       "    display: flex;\n",
       "    flex-flow: column nowrap;\n",
       "    justify-content: flex-end;\n",
       "    align-items: flex-end;\n",
       "    direction: ltr;\n",
       "    width: 100%;\n",
       "}\n",
       "\n",
       ".outeritem {\n",
       "    display: flex;\n",
       "    flex-flow: row wrap;\n",
       "    direction: ltr;\n",
       "}\n",
       "\n",
       ".word,.micro,.macro {\n",
       "    border: 1px solid #4f4c4c;\n",
       "    border-radius: 0.2em;\n",
       "    border-spacing: 5px;\n",
       "    padding: 0.1em;\n",
       "    margin: 0.4em;\n",
       "    display: flex;\n",
       "    flex-flow: row wrap;\n",
       "    direction: ltr;\n",
       "    background-color: #ffffff;\n",
       "}\n",
       "\n",
       ".prosa {\n",
       "    border: 1.5px dotted #4f4c4c;\n",
       "    border-radius: 0.2em;\n",
       "    padding: 0.1em;\n",
       "    margin: 0.4em;\n",
       "    border-color: #a30404;\n",
       "    display: flex;\n",
       "    flex-flow: row wrap;\n",
       "    direction: ltr;\n",
       "    background-color: #ffffff;\n",
       "}\n",
       "\n",
       "\n",
       ".line {\n",
       "    display: flex;\n",
       "    flex-flow: row wrap;\n",
       "    direction: ltr;\n",
       "}\n",
       "\n",
       ".ln {\n",
       "  font-size: small !important;\n",
       "  padding-right: 1em;\n",
       "}\n",
       "\n",
       ".nd {\n",
       "    font-family: monospace;\n",
       "    font-size: x-small;\n",
       "    color: #999999;\n",
       "}\n",
       "\n",
       ".hl {\n",
       "    background-color: #ffee66;\n",
       "}\n",
       "\n",
       ".ara,.ara a:visited,.ara a:link {\n",
       "    font-family: \"CharisSIL-R\";\n",
       "    font-size: 12pt;\n",
       "    color: #000000;\n",
       "    direction: ltr;\n",
       "    text-decoration: none;\n",
       "}\n",
       "\n",
       "/* What do the following classes do? */\n",
       "\n",
       ".tr,.tr a:visited,.tr a:link {\n",
       "    font-family: sans-serif;\n",
       "    font-size: large;\n",
       "    color: #000044;\n",
       "    direction: ltr;\n",
       "    text-decoration: none;\n",
       "}\n",
       ".trb,.trb a:visited,.trb a:link {\n",
       "    font-family: sans-serif;\n",
       "    font-size: normal;\n",
       "    direction: ltr;\n",
       "    text-decoration: none;\n",
       "}\n",
       "\n",
       ".occs {\n",
       "    font-size: x-small;\n",
       "}\n",
       "\n",
       "tr.tf, td.tf, th.tf {\n",
       "  text-align: left;\n",
       "}\n",
       "\n",
       "span.hldot {\n",
       "\tbackground-color: var(--hl-strong);\n",
       "\tborder: 0.2rem solid var(--hl-rim);\n",
       "\tborder-radius: 0.4rem;\n",
       "\t/*\n",
       "\tdisplay: inline-block;\n",
       "\twidth: 0.8rem;\n",
       "\theight: 0.8rem;\n",
       "\t*/\n",
       "}\n",
       "span.hl {\n",
       "\tbackground-color: var(--hl-strong);\n",
       "\tborder-width: 0;\n",
       "\tborder-radius: 0.1rem;\n",
       "\tborder-style: solid;\n",
       "}\n",
       "\n",
       "span.hlup {\n",
       "\tborder-color: var(--hl-dark);\n",
       "\tborder-width: 0.1rem;\n",
       "\tborder-style: solid;\n",
       "\tborder-radius: 0.2rem;\n",
       "  padding: 0.2rem;\n",
       "}\n",
       "\n",
       ":root {\n",
       "\t--hl-strong:        hsla( 60, 100%,  70%, 0.9  );\n",
       "\t--hl-rim:           hsla( 55, 100%,  60%, 0.9  );\n",
       "\t--hl-dark:          hsla( 55, 100%,  40%, 0.9  );\n",
       "}\n",
       "</style>"
      ],
      "text/plain": [
       "<IPython.core.display.HTML object>"
      ]
     },
     "metadata": {},
     "output_type": "display_data"
    }
   ],
   "source": [
    "# helper modules\n",
    "import re\n",
    "import csv\n",
    "import collections # advanced data containers\n",
    "import unicodedata\n",
    "\n",
    "# data science modules\n",
    "import pandas as pd\n",
    "import matplotlib.pyplot as plt\n",
    "\n",
    "# Text-Fabric and corpus load\n",
    "from tf.app import use\n",
    "nena = use('nena')\n",
    "F, L, T = nena.api.F, nena.api.L, nena.api.T"
   ]
  },
  {
   "cell_type": "markdown",
   "metadata": {},
   "source": [
    "Below we access the first word in the NENA corpus to show an example of how we will maneuver the data."
   ]
  },
  {
   "cell_type": "code",
   "execution_count": 20,
   "metadata": {},
   "outputs": [
    {
     "name": "stdout",
     "output_type": "stream",
     "text": [
      "739771\n"
     ]
    }
   ],
   "source": [
    "first_word = L.u(1, 'word')[0]\n",
    "\n",
    "print(first_word)"
   ]
  },
  {
   "cell_type": "markdown",
   "metadata": {},
   "source": [
    "Note the number above, which is a unique identifier for this word. That number is used to lookup the features. Below is an example of using `T` to get a plain-text representation of this word."
   ]
  },
  {
   "cell_type": "code",
   "execution_count": 26,
   "metadata": {},
   "outputs": [
    {
     "data": {
      "text/plain": [
       "'xá-ga '"
      ]
     },
     "execution_count": 26,
     "metadata": {},
     "output_type": "execute_result"
    }
   ],
   "source": [
    "T.text(first_word)"
   ]
  },
  {
   "cell_type": "markdown",
   "metadata": {},
   "source": [
    "And next we show the node but with the `trans_f` feature accessed."
   ]
  },
  {
   "cell_type": "code",
   "execution_count": 27,
   "metadata": {},
   "outputs": [
    {
     "data": {
      "text/plain": [
       "\"xa'-ga\""
      ]
     },
     "execution_count": 27,
     "metadata": {},
     "output_type": "execute_result"
    }
   ],
   "source": [
    "F.trans_f.v(first_word)"
   ]
  },
  {
   "cell_type": "markdown",
   "metadata": {},
   "source": [
    "Note that the `.v` refers to the \"value\" of the feature."
   ]
  },
  {
   "cell_type": "markdown",
   "metadata": {},
   "source": [
    "To aid the input of verb ending patterns, we will use this one-to-one transcription feature `trans_f`. The validated patterns can be stored in the dictionary below."
   ]
  },
  {
   "cell_type": "code",
   "execution_count": 67,
   "metadata": {},
   "outputs": [],
   "source": [
    "verb_patterns = {} # a dictionary for storing all verb patterns\n",
    "verbs = collections.defaultdict(list)"
   ]
  },
  {
   "cell_type": "markdown",
   "metadata": {},
   "source": [
    "## qṭilɛle forms\n",
    "\n",
    "```\n",
    "(i) For qṭilɛle forms search for strings ending in -ɛle and -ɛla (i.e. 3ms and 3fs). The hyphen means a wild card, i.e. any characters within the same word.\n",
    "```"
   ]
  },
  {
   "cell_type": "code",
   "execution_count": 68,
   "metadata": {},
   "outputs": [
    {
     "name": "stdout",
     "output_type": "stream",
     "text": [
      "  0.00s 1 result\n"
     ]
    }
   ],
   "source": [
    "barwar = nena.search('dialect dialect=Barwar')[0][0] # get Barwar dialect node"
   ]
  },
  {
   "cell_type": "code",
   "execution_count": 69,
   "metadata": {},
   "outputs": [
    {
     "name": "stdout",
     "output_type": "stream",
     "text": [
      "1827 matches found...\n"
     ]
    }
   ],
   "source": [
    "qtilele = verb_patterns['qtilele'] = re.compile(r'.*\\$le$|.*\\$la$')\n",
    "\n",
    "# find words that match the qtilelele pattern \n",
    "for word in L.d(barwar,'word'):\n",
    "    if qtilele.match(F.trans_f.v(word)): # test match\n",
    "        verbs['qtilele'].append(word) # save hit\n",
    "        \n",
    "print(f'{len(verbs[\"qtilele\"])} matches found...')"
   ]
  },
  {
   "cell_type": "markdown",
   "metadata": {},
   "source": [
    "In order to sample the results, we write a short function to show them in context."
   ]
  },
  {
   "cell_type": "code",
   "execution_count": 122,
   "metadata": {},
   "outputs": [],
   "source": [
    "def get_sample(words, **tf_kwargs):\n",
    "    \"\"\"Show words and their contexts\"\"\"\n",
    "    for i,w in enumerate(words):\n",
    "        sentence = L.u(w, 'sentence')[0]\n",
    "        nena.plain(sentence, **tf_kwargs, highlights={w})"
   ]
  },
  {
   "cell_type": "markdown",
   "metadata": {},
   "source": [
    "We will look at the first 10 results."
   ]
  },
  {
   "cell_type": "code",
   "execution_count": 123,
   "metadata": {},
   "outputs": [
    {
     "data": {
      "text/html": [
       "<a href=\"https://github.com/CambridgeSemiticsLab/nena_corpus/blob/master/nena/0.01/Barwar/A Hundred Gold Coins.nena\" title=\"see this passage in its source document\" sec=\"Barwar, A Hundred Gold Coins, Ln. 2\">Barwar, A Hundred Gold Coins, Ln. 2</a>&nbsp;<span class=\"ara\"><a href=\"https://github.com/CambridgeSemiticsLab/nena_corpus/blob/master/nena/0.01/Barwar/A Hundred Gold Coins.nena\" title=\"Barwar, A Hundred Gold Coins, Ln. 2\" sec=\"Barwar, A Hundred Gold Coins, Ln. 2\">síqa l-gàre,ˈ <span  class=\"hl\" >də́ryɛle </span>ʾə́č̣č̣i-u ʾə́č̣č̣a dáwe gu-ða-kìsta,ˈ də́rya b-kàwele.ˈ </a></span>"
      ],
      "text/plain": [
       "<IPython.core.display.HTML object>"
      ]
     },
     "metadata": {},
     "output_type": "display_data"
    },
    {
     "data": {
      "text/html": [
       "<a href=\"https://github.com/CambridgeSemiticsLab/nena_corpus/blob/master/nena/0.01/Barwar/A Hundred Gold Coins.nena\" title=\"see this passage in its source document\" sec=\"Barwar, A Hundred Gold Coins, Ln. 3\">Barwar, A Hundred Gold Coins, Ln. 3</a>&nbsp;<span class=\"ara\"><a href=\"https://github.com/CambridgeSemiticsLab/nena_corpus/blob/master/nena/0.01/Barwar/A Hundred Gold Coins.nena\" title=\"Barwar, A Hundred Gold Coins, Ln. 3\" sec=\"Barwar, A Hundred Gold Coins, Ln. 3\"><span  class=\"hl\" >muθɛ́θɛla </span>màjma.ˈ </a></span>"
      ],
      "text/plain": [
       "<IPython.core.display.HTML object>"
      ]
     },
     "metadata": {},
     "output_type": "display_data"
    },
    {
     "data": {
      "text/html": [
       "<a href=\"https://github.com/CambridgeSemiticsLab/nena_corpus/blob/master/nena/0.01/Barwar/A Hundred Gold Coins.nena\" title=\"see this passage in its source document\" sec=\"Barwar, A Hundred Gold Coins, Ln. 5\">Barwar, A Hundred Gold Coins, Ln. 5</a>&nbsp;<span class=\"ara\"><a href=\"https://github.com/CambridgeSemiticsLab/nena_corpus/blob/master/nena/0.01/Barwar/A Hundred Gold Coins.nena\" title=\"Barwar, A Hundred Gold Coins, Ln. 5\" sec=\"Barwar, A Hundred Gold Coins, Ln. 5\">sáʾət ʾə́šta mbàdlaˈ <span  class=\"hl\" >ʾə́θyɛle </span>huðáya wáða ṭəq-ṭəq-ṭə́q l-ṭằra.ˈ </a></span>"
      ],
      "text/plain": [
       "<IPython.core.display.HTML object>"
      ]
     },
     "metadata": {},
     "output_type": "display_data"
    },
    {
     "data": {
      "text/html": [
       "<a href=\"https://github.com/CambridgeSemiticsLab/nena_corpus/blob/master/nena/0.01/Barwar/A Hundred Gold Coins.nena\" title=\"see this passage in its source document\" sec=\"Barwar, A Hundred Gold Coins, Ln. 9\">Barwar, A Hundred Gold Coins, Ln. 9</a>&nbsp;<span class=\"ara\"><a href=\"https://github.com/CambridgeSemiticsLab/nena_corpus/blob/master/nena/0.01/Barwar/A Hundred Gold Coins.nena\" title=\"Barwar, A Hundred Gold Coins, Ln. 9\" sec=\"Barwar, A Hundred Gold Coins, Ln. 9\"><span  class=\"hl\" >qímɛle </span>ʾaw-lwíša dašdàšət málla,ˈ ʾu-čak̭àllət málla,ˈ málla lwíšɛle kášxa d-o-huðàyaˈ ʾu-tíwɛle xáṣət xmàrta,ˈ ʾu-síqela kəs-qàzi.ˈ </a></span>"
      ],
      "text/plain": [
       "<IPython.core.display.HTML object>"
      ]
     },
     "metadata": {},
     "output_type": "display_data"
    },
    {
     "data": {
      "text/html": [
       "<a href=\"https://github.com/CambridgeSemiticsLab/nena_corpus/blob/master/nena/0.01/Barwar/A Hundred Gold Coins.nena\" title=\"see this passage in its source document\" sec=\"Barwar, A Hundred Gold Coins, Ln. 9\">Barwar, A Hundred Gold Coins, Ln. 9</a>&nbsp;<span class=\"ara\"><a href=\"https://github.com/CambridgeSemiticsLab/nena_corpus/blob/master/nena/0.01/Barwar/A Hundred Gold Coins.nena\" title=\"Barwar, A Hundred Gold Coins, Ln. 9\" sec=\"Barwar, A Hundred Gold Coins, Ln. 9\">qímɛle ʾaw-lwíša dašdàšət málla,ˈ ʾu-čak̭àllət málla,ˈ málla <span  class=\"hl\" >lwíšɛle </span>kášxa d-o-huðàyaˈ ʾu-tíwɛle xáṣət xmàrta,ˈ ʾu-síqela kəs-qàzi.ˈ </a></span>"
      ],
      "text/plain": [
       "<IPython.core.display.HTML object>"
      ]
     },
     "metadata": {},
     "output_type": "display_data"
    },
    {
     "data": {
      "text/html": [
       "<a href=\"https://github.com/CambridgeSemiticsLab/nena_corpus/blob/master/nena/0.01/Barwar/A Hundred Gold Coins.nena\" title=\"see this passage in its source document\" sec=\"Barwar, A Hundred Gold Coins, Ln. 9\">Barwar, A Hundred Gold Coins, Ln. 9</a>&nbsp;<span class=\"ara\"><a href=\"https://github.com/CambridgeSemiticsLab/nena_corpus/blob/master/nena/0.01/Barwar/A Hundred Gold Coins.nena\" title=\"Barwar, A Hundred Gold Coins, Ln. 9\" sec=\"Barwar, A Hundred Gold Coins, Ln. 9\">qímɛle ʾaw-lwíša dašdàšət málla,ˈ ʾu-čak̭àllət málla,ˈ málla lwíšɛle kášxa d-o-huðàyaˈ <span  class=\"hl\" >ʾu-tíwɛle </span>xáṣət xmàrta,ˈ ʾu-síqela kəs-qàzi.ˈ </a></span>"
      ],
      "text/plain": [
       "<IPython.core.display.HTML object>"
      ]
     },
     "metadata": {},
     "output_type": "display_data"
    },
    {
     "data": {
      "text/html": [
       "<a href=\"https://github.com/CambridgeSemiticsLab/nena_corpus/blob/master/nena/0.01/Barwar/A Hundred Gold Coins.nena\" title=\"see this passage in its source document\" sec=\"Barwar, A Hundred Gold Coins, Ln. 9\">Barwar, A Hundred Gold Coins, Ln. 9</a>&nbsp;<span class=\"ara\"><a href=\"https://github.com/CambridgeSemiticsLab/nena_corpus/blob/master/nena/0.01/Barwar/A Hundred Gold Coins.nena\" title=\"Barwar, A Hundred Gold Coins, Ln. 9\" sec=\"Barwar, A Hundred Gold Coins, Ln. 9\"><span  class=\"hl\" >síqɛle </span>kəs-qàzi,ˈ wírela šarṭ-qàzi.ˈ </a></span>"
      ],
      "text/plain": [
       "<IPython.core.display.HTML object>"
      ]
     },
     "metadata": {},
     "output_type": "display_data"
    },
    {
     "data": {
      "text/html": [
       "<a href=\"https://github.com/CambridgeSemiticsLab/nena_corpus/blob/master/nena/0.01/Barwar/A Hundred Gold Coins.nena\" title=\"see this passage in its source document\" sec=\"Barwar, A Hundred Gold Coins, Ln. 11\">Barwar, A Hundred Gold Coins, Ln. 11</a>&nbsp;<span class=\"ara\"><a href=\"https://github.com/CambridgeSemiticsLab/nena_corpus/blob/master/nena/0.01/Barwar/A Hundred Gold Coins.nena\" title=\"Barwar, A Hundred Gold Coins, Ln. 11\" sec=\"Barwar, A Hundred Gold Coins, Ln. 11\">mə́re xzí hátxa <span  class=\"hl\" >be-nxə̀pθɛle.ˈ </span></a></span>"
      ],
      "text/plain": [
       "<IPython.core.display.HTML object>"
      ]
     },
     "metadata": {},
     "output_type": "display_data"
    },
    {
     "data": {
      "text/html": [
       "<a href=\"https://github.com/CambridgeSemiticsLab/nena_corpus/blob/master/nena/0.01/Barwar/A Man Called Čuxo.nena\" title=\"see this passage in its source document\" sec=\"Barwar, A Man Called Čuxo, Ln. 2\">Barwar, A Man Called Čuxo, Ln. 2</a>&nbsp;<span class=\"ara\"><a href=\"https://github.com/CambridgeSemiticsLab/nena_corpus/blob/master/nena/0.01/Barwar/A Man Called Čuxo.nena\" title=\"Barwar, A Man Called Čuxo, Ln. 2\" sec=\"Barwar, A Man Called Čuxo, Ln. 2\">xá-yoma <span  class=\"hl\" >qə́ryɛle </span>mə́re ṭla-réšət màθaˈ ʾáwwa šə́mma mšaxəlpùle.ˈ </a></span>"
      ],
      "text/plain": [
       "<IPython.core.display.HTML object>"
      ]
     },
     "metadata": {},
     "output_type": "display_data"
    },
    {
     "data": {
      "text/html": [
       "<a href=\"https://github.com/CambridgeSemiticsLab/nena_corpus/blob/master/nena/0.01/Barwar/A Man Called Čuxo.nena\" title=\"see this passage in its source document\" sec=\"Barwar, A Man Called Čuxo, Ln. 3\">Barwar, A Man Called Čuxo, Ln. 3</a>&nbsp;<span class=\"ara\"><a href=\"https://github.com/CambridgeSemiticsLab/nena_corpus/blob/master/nena/0.01/Barwar/A Man Called Čuxo.nena\" title=\"Barwar, A Man Called Čuxo, Ln. 3\" sec=\"Barwar, A Man Called Čuxo, Ln. 3\">ʾu-ʾáwwa-ži <span  class=\"hl\" >zìlɛle.ˈ </span></a></span>"
      ],
      "text/plain": [
       "<IPython.core.display.HTML object>"
      ]
     },
     "metadata": {},
     "output_type": "display_data"
    }
   ],
   "source": [
    "get_sample(verbs['qtilele'][:10])"
   ]
  },
  {
   "cell_type": "markdown",
   "metadata": {},
   "source": [
    "### Further examination"
   ]
  },
  {
   "cell_type": "markdown",
   "metadata": {},
   "source": [
    "We want to export these forms to a spreadsheet so they can be examined more closely. There should be two kinds of spreadsheets. The first kind is an exhaustive list of all results, organized alphabetically. The second list contains a condensed list of all unique tokens/surface-forms along with their frequencies within the results. \n",
    "\n",
    "We prepare two functions for each of these tasks which we can also use throughout the study."
   ]
  },
  {
   "cell_type": "code",
   "execution_count": 124,
   "metadata": {},
   "outputs": [
    {
     "data": {
      "text/plain": [
       "'Barwar, A Hundred Gold Coins, Ln. 1'"
      ]
     },
     "execution_count": 124,
     "metadata": {},
     "output_type": "execute_result"
    }
   ],
   "source": [
    "nena.sectionStrFromNode(1)"
   ]
  },
  {
   "cell_type": "code",
   "execution_count": 171,
   "metadata": {},
   "outputs": [],
   "source": [
    "# accent list to strip out for token counts\n",
    "# we should make this a TF feature\n",
    "accents = '\\u0300|\\u0301|\\u0304|\\u0306|\\u0308|\\u0303'\n",
    "\n",
    "def writecsv(data, filename, sep='\\t'):\n",
    "    \"\"\"Writer function for dict spreadsheet data\"\"\"\n",
    "    with open(filename, 'w', encoding='utf16') as outfile:\n",
    "        header = data[0].keys()\n",
    "        writer = csv.DictWriter(outfile, delimiter=sep, fieldnames=header)\n",
    "        writer.writeheader()\n",
    "        writer.writerows(data)\n",
    "    \n",
    "def export_long_results(results, filename, sep='\\t'):\n",
    "    \"\"\"Export an exhaustive list of results\"\"\"\n",
    "    # gather all data from words\n",
    "    data = []\n",
    "    for word in results:\n",
    "        plain, trans = T.text(word), F.trans_f.v(word)\n",
    "        sentence = T.text(L.u(word,'sentence')[0])\n",
    "        ref = nena.sectionStrFromNode(word)\n",
    "        data.append({\n",
    "            'match': plain, \n",
    "            'sentence': sentence, \n",
    "            'ref': ref,\n",
    "            'node': word,\n",
    "        })\n",
    "    # sort it and export\n",
    "    data = sorted(data, key=lambda k: k['match'])\n",
    "    writecsv(data, filename, sep)\n",
    "        \n",
    "def export_summary_results(results, filename, sep='\\t'):\n",
    "    \"\"\"Export a summarized list\"\"\"\n",
    "    token_counts = collections.Counter()\n",
    "    for word in results:\n",
    "        plain = F.text.v(word).replace(F.end.v(word),'')\n",
    "        plain = unicodedata.normalize('NFD', plain) # decompose for accent stripping\n",
    "        plain = re.sub(accents, '', plain) # strip accents\n",
    "        token_counts[plain] += 1\n",
    "    data = [\n",
    "        {'token': tok, 'frequency': count} \n",
    "            for tok, count in token_counts.most_common()\n",
    "    ]\n",
    "    writecsv(data, filename, sep)"
   ]
  },
  {
   "cell_type": "markdown",
   "metadata": {},
   "source": [
    "We make the export below."
   ]
  },
  {
   "cell_type": "code",
   "execution_count": 172,
   "metadata": {},
   "outputs": [],
   "source": [
    "export_long_results(verbs['qtilele'], 'inspect/qtilele.tsv')\n",
    "export_summary_results(verbs['qtilele'], 'inspect/qtilele_summary.tsv')"
   ]
  },
  {
   "cell_type": "markdown",
   "metadata": {},
   "source": [
    "## qṭille forms\n",
    "\n",
    "```\n",
    "(ii) For qṭille forms search for strings ending in -ele, -ela, -ble, -bla, -dle, -dla, -fle, -fla, -gle, -gla, -jle, -jla, -kle, -kla, -mle, -mla, -nne, -nna, -ple, -pla, -qle, -qla, -rre, -rra, -sle, -sla, -ṣle, -ṣla, -tle, -tla, -ṭle, -ṭla, -wle, -wla, -xle, -xla, -zle, -zla. The hyphen means a wild card, i.e. any characters within the same word. This search may pull out lots of inappropriate examples with -L suffixes that are objects, so one way of refining the results would be to add i before consonants, i.e. -ible, -ibla, -idle, -idla etc. The /i/ is the stem vowel of the peʿal form (the basic form).\n",
    "```"
   ]
  },
  {
   "cell_type": "code",
   "execution_count": null,
   "metadata": {},
   "outputs": [],
   "source": [
    "qtille = verb_patterns['qtille']"
   ]
  }
 ],
 "metadata": {
  "kernelspec": {
   "display_name": "Python 3",
   "language": "python",
   "name": "python3"
  },
  "language_info": {
   "codemirror_mode": {
    "name": "ipython",
    "version": 3
   },
   "file_extension": ".py",
   "mimetype": "text/x-python",
   "name": "python",
   "nbconvert_exporter": "python",
   "pygments_lexer": "ipython3",
   "version": "3.8.0"
  }
 },
 "nbformat": 4,
 "nbformat_minor": 4
}

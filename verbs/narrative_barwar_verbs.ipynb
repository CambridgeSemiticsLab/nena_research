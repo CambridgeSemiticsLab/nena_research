{
 "cells": [
  {
   "cell_type": "markdown",
   "metadata": {},
   "source": [
    "# Narrative Verbs in Barwar\n",
    "### Geoffrey Khan and Cody Kingham\n",
    "\n",
    "<a href=\"https://github.com/CambridgeSemiticsLab\"><img src=\"../docs/images/CambridgeU_BW.png\" height=\"100pt\" width=\"200pt\" align='left'></a>"
   ]
  },
  {
   "cell_type": "code",
   "execution_count": 1,
   "metadata": {},
   "outputs": [
    {
     "name": "stdout",
     "output_type": "stream",
     "text": [
      "last updated\n",
      "Mon 10 Feb 2020 16:18:09 GMT\n"
     ]
    }
   ],
   "source": [
    "! echo \"last updated\"; date"
   ]
  },
  {
   "cell_type": "markdown",
   "metadata": {},
   "source": [
    "## Introduction\n",
    "\n",
    "In the Barwar story-corpus, narratives are told using two past verbal forms: qṭilɛle (perfect) and qṭille (preterite). These forms interchange. It seems the qṭille form clusters around the onset of narratives in a section of narrative that sets the scene and so has a concentration of adverbials. \n",
    "\n",
    "## Research Questions\n",
    "\n",
    "**In this notebook we seek to test that hypothesis that the qṭille narrative occurs more frequently with adverbials in the same clause than the qṭilɛle narrative form.** \n",
    "\n",
    "In order to test the hypothesis, we look for the following correlations between the two verb groups:\n",
    "\n",
    "1. **How often are particular verb forms clause-initial, i.e. without an explicit subject noun or other constituent before them?**\n",
    "    - This could be established by checking whether the string is immediately preceded by .| or ,|\n",
    "2. **How often are particular verb forms accompanied by an adverbial in the same sentence?**\n",
    "\n",
    "## Dataset\n",
    "\n",
    "We will make a selection of key verbs and adverbial phrases for this analysis. The selections will be as follows:\n",
    "\n",
    "### qṭilɛle\n",
    "\n",
    "```\n",
    "zilɛle 'he went', ziltɛla 'she went'\n",
    "ʾəθyɛle  'he came', θiθɛla 'she came'\n",
    "qimɛle 'he got up', qimtɛla 'she got up'\n",
    "ṣəlyɛle 'he went down', ṣliθɛla 'she went down'\n",
    "siqɛle 'he went up', siqtɛla 'she went up'\n",
    "diṛɛle 'he returned', diṛtɛla 'she returned'\n",
    "wirɛle 'he entered', wirtɛla 'she entered'\n",
    "pliṭɛle 'he went out', pliṭṭɛla 'she went out'\n",
    "riqɛle 'he ran', riqtɛla 'she ran'\n",
    "tiwɛle 'he sat', tiwtɛla 'she sat'\n",
    "pišɛle 'he became', pištɛla 'she became'\n",
    "šqilɛle 'he took', šqiltɛla 'she took' \n",
    "npilɛle 'he fell', npiltɛla 'she fell'\n",
    "məṭyɛle 'he arrived', mṭiθɛla 'she arrived'\n",
    "```\n",
    "\n",
    "### qṭille\n",
    "\n",
    "```\n",
    "zille 'he went', zilla 'she went'\n",
    "θele  'he came', θela 'she came'\n",
    "qimle 'he got up', qimla 'she got up'\n",
    "ṣlele 'he went down', ṣlela 'she went down'\n",
    "siqle 'he went up', siqla 'she went up'\n",
    "diṛre 'he returned', diṛra she returned'\n",
    "wirre 'he entered', wirra 'she entered'\n",
    "pliṭle 'he went out', pliṭla 'she went out'\n",
    "riqle 'he ran', riqla 'she ran'\n",
    "tiwle 'he sat', tiwla 'she sat'\n",
    "pišle 'he became', pišla 'she became'\n",
    "šqille 'he took', šqilla 'she took' \n",
    "npille 'he fell', npilla 'she fell'\n",
    "mṭele 'he arrived', mṭela 'she arrived'\n",
    "```\n",
    "\n",
    "### adverbials\n",
    "\n",
    "```\n",
    "- Adverbs containing the word yoma ‘day’ or yome ‘days’ or yomət ‘the day of’\n",
    "- b-lɛle ‘at night’\n",
    "- qedamta ‘in the morning’\n",
    "- mbadla ‘early in the morning’\n",
    "- ʾaṣərta ‘in the evening’\n",
    "- xarθa ‘afterwards’\n",
    "- ga, gaye ‘time, times’\n",
    "- xa-ga\n",
    "```"
   ]
  },
  {
   "cell_type": "markdown",
   "metadata": {},
   "source": [
    "<hr>"
   ]
  },
  {
   "cell_type": "markdown",
   "metadata": {},
   "source": [
    "# Python"
   ]
  },
  {
   "cell_type": "code",
   "execution_count": 2,
   "metadata": {},
   "outputs": [
    {
     "name": "stdout",
     "output_type": "stream",
     "text": [
      "\tconnecting to online GitHub repo annotation/app-nena ... connected\n",
      "Using TF-app in /Users/cody/text-fabric-data/annotation/app-nena/code:\n",
      "\t#9ec58f223a6ba6817347279da277c1efadae550a (latest commit)\n",
      "\tconnecting to online GitHub repo CambridgeSemiticsLab/nena_tf ... connected\n",
      "Using data in /Users/cody/text-fabric-data/CambridgeSemiticsLab/nena_tf/tf/0.01:\n",
      "\trv0.032=#dd02c45f4294b97f9ecd8d4c3809aaf4153e2843 (latest release)\n",
      "   |     0.00s No structure info in otext, the structure part of the T-API cannot be used\n"
     ]
    },
    {
     "data": {
      "text/html": [
       "<b>Documentation:</b> <a target=\"_blank\" href=\"https://github.com/CambridgeSemiticsLab/nena_tf/blob/master/docs\" title=\"provenance of Northeastern Neo-Aramaic Text Corpus\">NENA_TF</a> <a target=\"_blank\" href=\"https://github.com/CambridgeSemiticsLab/nena_tf/blob/master/docs/transcription.md\" title=\"('NENA transcription script',)\">Character table</a> <a target=\"_blank\" href=\"https://github.com/CambridgeSemiticsLab/nena_tf/blob/master/docs/features.md#features.md\" title=\"NENA_TF feature documentation\">Feature docs</a> <a target=\"_blank\" href=\"https://github.com/annotation/app-nena\" title=\"nena API documentation\">nena API</a> <a target=\"_blank\" href=\"https://annotation.github.io/text-fabric/Api/Fabric/\" title=\"text-fabric-api\">Text-Fabric API 7.9.0</a> <a target=\"_blank\" href=\"https://annotation.github.io/text-fabric/Use/Search/\" title=\"Search Templates Introduction and Reference\">Search Reference</a><details open><summary><b>Loaded features</b>:</summary>\n",
       "<p><b>Northeastern Neo-Aramaic Text Corpus</b>: <a target=\"_blank\" href=\"https://github.com/CambridgeSemiticsLab/nena_tf/blob/master/docs/features.md#comment\" title=\"/Users/cody/text-fabric-data/CambridgeSemiticsLab/nena_tf/tf/0.01/comment.tf\">comment</a>  <a target=\"_blank\" href=\"https://github.com/CambridgeSemiticsLab/nena_tf/blob/master/docs/features.md#continued_from\" title=\"/Users/cody/text-fabric-data/CambridgeSemiticsLab/nena_tf/tf/0.01/continued_from.tf\">continued_from</a>  <a target=\"_blank\" href=\"https://github.com/CambridgeSemiticsLab/nena_tf/blob/master/docs/features.md#dialect\" title=\"/Users/cody/text-fabric-data/CambridgeSemiticsLab/nena_tf/tf/0.01/dialect.tf\">dialect</a>  <a target=\"_blank\" href=\"https://github.com/CambridgeSemiticsLab/nena_tf/blob/master/docs/features.md#end\" title=\"/Users/cody/text-fabric-data/CambridgeSemiticsLab/nena_tf/tf/0.01/end.tf\">end</a>  <a target=\"_blank\" href=\"https://github.com/CambridgeSemiticsLab/nena_tf/blob/master/docs/features.md#etrans_f\" title=\"/Users/cody/text-fabric-data/CambridgeSemiticsLab/nena_tf/tf/0.01/etrans_f.tf\">etrans_f</a>  <a target=\"_blank\" href=\"https://github.com/CambridgeSemiticsLab/nena_tf/blob/master/docs/features.md#etrans_l\" title=\"/Users/cody/text-fabric-data/CambridgeSemiticsLab/nena_tf/tf/0.01/etrans_l.tf\">etrans_l</a>  <a target=\"_blank\" href=\"https://github.com/CambridgeSemiticsLab/nena_tf/blob/master/docs/features.md#footnotes\" title=\"/Users/cody/text-fabric-data/CambridgeSemiticsLab/nena_tf/tf/0.01/footnotes.tf\">footnotes</a>  <a target=\"_blank\" href=\"https://github.com/CambridgeSemiticsLab/nena_tf/blob/master/docs/features.md#foreign\" title=\"/Users/cody/text-fabric-data/CambridgeSemiticsLab/nena_tf/tf/0.01/foreign.tf\">foreign</a>  <a target=\"_blank\" href=\"https://github.com/CambridgeSemiticsLab/nena_tf/blob/master/docs/features.md#informant\" title=\"/Users/cody/text-fabric-data/CambridgeSemiticsLab/nena_tf/tf/0.01/informant.tf\">informant</a>  <a target=\"_blank\" href=\"https://github.com/CambridgeSemiticsLab/nena_tf/blob/master/docs/features.md#lang\" title=\"/Users/cody/text-fabric-data/CambridgeSemiticsLab/nena_tf/tf/0.01/lang.tf\">lang</a>  <a target=\"_blank\" href=\"https://github.com/CambridgeSemiticsLab/nena_tf/blob/master/docs/features.md#number\" title=\"/Users/cody/text-fabric-data/CambridgeSemiticsLab/nena_tf/tf/0.01/number.tf\">number</a>  <a target=\"_blank\" href=\"https://github.com/CambridgeSemiticsLab/nena_tf/blob/master/docs/features.md#otype\" title=\"/Users/cody/text-fabric-data/CambridgeSemiticsLab/nena_tf/tf/0.01/otype.tf\">otype</a>  <a target=\"_blank\" href=\"https://github.com/CambridgeSemiticsLab/nena_tf/blob/master/docs/features.md#place\" title=\"/Users/cody/text-fabric-data/CambridgeSemiticsLab/nena_tf/tf/0.01/place.tf\">place</a>  <a target=\"_blank\" href=\"https://github.com/CambridgeSemiticsLab/nena_tf/blob/master/docs/features.md#source\" title=\"/Users/cody/text-fabric-data/CambridgeSemiticsLab/nena_tf/tf/0.01/source.tf\">source</a>  <a target=\"_blank\" href=\"https://github.com/CambridgeSemiticsLab/nena_tf/blob/master/docs/features.md#speaker\" title=\"/Users/cody/text-fabric-data/CambridgeSemiticsLab/nena_tf/tf/0.01/speaker.tf\">speaker</a>  <a target=\"_blank\" href=\"https://github.com/CambridgeSemiticsLab/nena_tf/blob/master/docs/features.md#text\" title=\"/Users/cody/text-fabric-data/CambridgeSemiticsLab/nena_tf/tf/0.01/text.tf\">text</a>  <a target=\"_blank\" href=\"https://github.com/CambridgeSemiticsLab/nena_tf/blob/master/docs/features.md#text_id\" title=\"/Users/cody/text-fabric-data/CambridgeSemiticsLab/nena_tf/tf/0.01/text_id.tf\">text_id</a>  <a target=\"_blank\" href=\"https://github.com/CambridgeSemiticsLab/nena_tf/blob/master/docs/features.md#title\" title=\"/Users/cody/text-fabric-data/CambridgeSemiticsLab/nena_tf/tf/0.01/title.tf\">title</a>  <a target=\"_blank\" href=\"https://github.com/CambridgeSemiticsLab/nena_tf/blob/master/docs/features.md#trans_f\" title=\"/Users/cody/text-fabric-data/CambridgeSemiticsLab/nena_tf/tf/0.01/trans_f.tf\">trans_f</a>  <a target=\"_blank\" href=\"https://github.com/CambridgeSemiticsLab/nena_tf/blob/master/docs/features.md#trans_l\" title=\"/Users/cody/text-fabric-data/CambridgeSemiticsLab/nena_tf/tf/0.01/trans_l.tf\">trans_l</a>  <a target=\"_blank\" href=\"https://github.com/CambridgeSemiticsLab/nena_tf/blob/master/docs/features.md#version\" title=\"/Users/cody/text-fabric-data/CambridgeSemiticsLab/nena_tf/tf/0.01/version.tf\">version</a>  <b><i><a target=\"_blank\" href=\"https://github.com/CambridgeSemiticsLab/nena_tf/blob/master/docs/features.md#oslots\" title=\"/Users/cody/text-fabric-data/CambridgeSemiticsLab/nena_tf/tf/0.01/oslots.tf\">oslots</a></i></b> </p></details>"
      ],
      "text/plain": [
       "<IPython.core.display.HTML object>"
      ]
     },
     "metadata": {},
     "output_type": "display_data"
    },
    {
     "data": {
      "text/html": [
       "<style>\n",
       "@font-face {\n",
       "  font-family: \"CharisSIL-R\";\n",
       "  src:\n",
       "    local(\"CharisSIL-R.otf\"),\n",
       "    url(\"https://github.com/annotation/text-fabric/blob/master/tf/server/static/fonts/CharisSIL-R.woff?raw=true\");\n",
       "}\n",
       ".features {\n",
       "    font-family: monospace;\n",
       "    font-size: medium;\n",
       "    font-weight: normal;\n",
       "    color: #000000;\n",
       "    display: flex;\n",
       "    flex-flow: column nowrap;\n",
       "    padding: 0.1em;\n",
       "    margin: 0.1em;\n",
       "    direction: ltr;\n",
       "}\n",
       ".features div,.features span {\n",
       "    padding: 0;\n",
       "    margin: -0.1rem 0;\n",
       "}\n",
       ".features .f {\n",
       "    font-family: sans-serif;\n",
       "    font-size: x-small;\n",
       "    font-weight: normal;\n",
       "    color: #5555bb;\n",
       "}\n",
       ".features .xft {\n",
       "  color: #000000;\n",
       "  background-color: #eeeeee;\n",
       "  font-size: medium;\n",
       "  margin: 0.1em 0em;\n",
       "}\n",
       ".features .xft .f {\n",
       "  color: #000000;\n",
       "  background-color: #eeeeee;\n",
       "  font-style: italic;\n",
       "  font-size: x-small;\n",
       "  font-weight: normal;\n",
       "}\n",
       "\n",
       ".ll {\n",
       "    display: flex;\n",
       "    flex-flow: column nowrap;\n",
       "    justify-content: flex-end;\n",
       "    align-items: flex-end;\n",
       "    direction: ltr;\n",
       "    width: 100%;\n",
       "}\n",
       "\n",
       ".outeritem {\n",
       "    display: flex;\n",
       "    flex-flow: row wrap;\n",
       "    direction: ltr;\n",
       "}\n",
       "\n",
       ".word,.micro,.macro {\n",
       "    border: 1px solid #4f4c4c;\n",
       "    border-radius: 0.2em;\n",
       "    border-spacing: 5px;\n",
       "    padding: 0.1em;\n",
       "    margin: 0.4em;\n",
       "    display: flex;\n",
       "    flex-flow: row wrap;\n",
       "    direction: ltr;\n",
       "    background-color: #ffffff;\n",
       "}\n",
       "\n",
       ".prosa {\n",
       "    border: 1.5px dotted #4f4c4c;\n",
       "    border-radius: 0.2em;\n",
       "    padding: 0.1em;\n",
       "    margin: 0.4em;\n",
       "    border-color: #a30404;\n",
       "    display: flex;\n",
       "    flex-flow: row wrap;\n",
       "    direction: ltr;\n",
       "    background-color: #ffffff;\n",
       "}\n",
       "\n",
       "\n",
       ".line {\n",
       "    display: flex;\n",
       "    flex-flow: row wrap;\n",
       "    direction: ltr;\n",
       "}\n",
       "\n",
       ".ln {\n",
       "  font-size: small !important;\n",
       "  padding-right: 1em;\n",
       "}\n",
       "\n",
       ".nd {\n",
       "    font-family: monospace;\n",
       "    font-size: x-small;\n",
       "    color: #999999;\n",
       "}\n",
       "\n",
       ".hl {\n",
       "    background-color: #ffee66;\n",
       "}\n",
       "\n",
       ".ara,.ara a:visited,.ara a:link {\n",
       "    font-family: \"CharisSIL-R\";\n",
       "    font-size: 12pt;\n",
       "    color: #000000;\n",
       "    direction: ltr;\n",
       "    text-decoration: none;\n",
       "}\n",
       "\n",
       "/* What do the following classes do? */\n",
       "\n",
       ".tr,.tr a:visited,.tr a:link {\n",
       "    font-family: sans-serif;\n",
       "    font-size: large;\n",
       "    color: #000044;\n",
       "    direction: ltr;\n",
       "    text-decoration: none;\n",
       "}\n",
       ".trb,.trb a:visited,.trb a:link {\n",
       "    font-family: sans-serif;\n",
       "    font-size: normal;\n",
       "    direction: ltr;\n",
       "    text-decoration: none;\n",
       "}\n",
       "\n",
       ".occs {\n",
       "    font-size: x-small;\n",
       "}\n",
       "\n",
       "tr.tf, td.tf, th.tf {\n",
       "  text-align: left;\n",
       "}\n",
       "\n",
       "span.hldot {\n",
       "\tbackground-color: var(--hl-strong);\n",
       "\tborder: 0.2rem solid var(--hl-rim);\n",
       "\tborder-radius: 0.4rem;\n",
       "\t/*\n",
       "\tdisplay: inline-block;\n",
       "\twidth: 0.8rem;\n",
       "\theight: 0.8rem;\n",
       "\t*/\n",
       "}\n",
       "span.hl {\n",
       "\tbackground-color: var(--hl-strong);\n",
       "\tborder-width: 0;\n",
       "\tborder-radius: 0.1rem;\n",
       "\tborder-style: solid;\n",
       "}\n",
       "\n",
       "span.hlup {\n",
       "\tborder-color: var(--hl-dark);\n",
       "\tborder-width: 0.1rem;\n",
       "\tborder-style: solid;\n",
       "\tborder-radius: 0.2rem;\n",
       "  padding: 0.2rem;\n",
       "}\n",
       "\n",
       ":root {\n",
       "\t--hl-strong:        hsla( 60, 100%,  70%, 0.9  );\n",
       "\t--hl-rim:           hsla( 55, 100%,  60%, 0.9  );\n",
       "\t--hl-dark:          hsla( 55, 100%,  40%, 0.9  );\n",
       "}\n",
       "</style>"
      ],
      "text/plain": [
       "<IPython.core.display.HTML object>"
      ]
     },
     "metadata": {},
     "output_type": "display_data"
    }
   ],
   "source": [
    "# helper modules\n",
    "import collections\n",
    "import re\n",
    "\n",
    "# data science modules\n",
    "import pandas as pd\n",
    "pd.set_option('display.max_colwidth', -1)\n",
    "pd.set_option('display.max_rows', 100)\n",
    "import numpy as np\n",
    "import matplotlib.pyplot as plt\n",
    "import seaborn as sns\n",
    "\n",
    "# custom modules\n",
    "from normalize_text import normalize_nena\n",
    "from significance import apply_fishers, contingency_table\n",
    "\n",
    "# Text-Fabric and corpus load\n",
    "from tf.app import use\n",
    "nena = use('nena')\n",
    "F, L, T = nena.api.F, nena.api.L, nena.api.T"
   ]
  },
  {
   "cell_type": "code",
   "execution_count": 3,
   "metadata": {},
   "outputs": [
    {
     "name": "stdout",
     "output_type": "stream",
     "text": [
      "  0.00s 1 result\n"
     ]
    }
   ],
   "source": [
    "barwar = nena.search('dialect dialect=Barwar')[0][0] # get Barwar dialect node"
   ]
  },
  {
   "cell_type": "markdown",
   "metadata": {},
   "source": [
    "## Select adverbials\n",
    "\n",
    "We begin by select adverbials first. This will allow us to use the adverbials when we build the verbs dataset, since we are interested in collocation information. "
   ]
  },
  {
   "cell_type": "code",
   "execution_count": 4,
   "metadata": {},
   "outputs": [],
   "source": [
    "adverbial_patterns_raw = [\n",
    "    r'.*-?yom[a,e]$',\n",
    "    r'^[b,m]-yom',\n",
    "    r'^yomət$|.*-yomət$',\n",
    "    r'.*-lɛle$|^ʾədlɛle$',\n",
    "    r'^qedamta$|.*-qedamta$',   \n",
    "    r'^mbadla$|.*-mbadla$',\n",
    "    r'^ʾaṣərta$|.*-ʾaṣərta$',\n",
    "    r'^xarθa$',\n",
    "    r'.*-ga$',\n",
    "    r'^gaye$',\n",
    "    r'^xa-ga$',\n",
    "    \n",
    "    # others:\n",
    "    r'^zawna$|.*-zawna$',\n",
    "    r'^dana$|.*-dana$', \n",
    "    #r'-?fatra$', # leave out for now since its a duration\n",
    "]\n",
    "\n",
    "adverbial_patterns = [re.compile(p) for p in adverbial_patterns_raw]"
   ]
  },
  {
   "cell_type": "code",
   "execution_count": 5,
   "metadata": {},
   "outputs": [
    {
     "name": "stdout",
     "output_type": "stream",
     "text": [
      "590 adverbials found...\n"
     ]
    }
   ],
   "source": [
    "adverbial_data = []\n",
    "adverbials = set()\n",
    "matched_patterns = set()\n",
    "\n",
    "for word in L.d(barwar,'word'):\n",
    "    text = normalize_nena(word, nena.api)\n",
    "    for patt in adverbial_patterns:\n",
    "        if patt.match(text):\n",
    "            adverbials.add(word)\n",
    "            matched_patterns.add(patt.pattern)\n",
    "            \n",
    "for advb in adverbials:\n",
    "    text = normalize_nena(advb, nena.api)\n",
    "    sentence = L.u(advb,'sentence')[0]\n",
    "    adverbial_data.append({\n",
    "        'node': advb,\n",
    "        'form': text,\n",
    "        'sentence': T.text(sentence),\n",
    "    })\n",
    "            \n",
    "adverbial_data = pd.DataFrame(adverbial_data).set_index('node')\n",
    "            \n",
    "print(f'{len(adverbials)} adverbials found...')"
   ]
  },
  {
   "cell_type": "code",
   "execution_count": 6,
   "metadata": {},
   "outputs": [
    {
     "name": "stdout",
     "output_type": "stream",
     "text": [
      "unmatched patterns:\n"
     ]
    },
    {
     "data": {
      "text/plain": [
       "set()"
      ]
     },
     "execution_count": 6,
     "metadata": {},
     "output_type": "execute_result"
    }
   ],
   "source": [
    "print('unmatched patterns:')\n",
    "set(adverbial_patterns_raw) - matched_patterns"
   ]
  },
  {
   "cell_type": "markdown",
   "metadata": {},
   "source": [
    "Examine the adverbials data."
   ]
  },
  {
   "cell_type": "code",
   "execution_count": 7,
   "metadata": {},
   "outputs": [
    {
     "data": {
      "text/plain": [
       "(590, 2)"
      ]
     },
     "execution_count": 7,
     "metadata": {},
     "output_type": "execute_result"
    }
   ],
   "source": [
    "adverbial_data.shape"
   ]
  },
  {
   "cell_type": "code",
   "execution_count": 8,
   "metadata": {},
   "outputs": [
    {
     "data": {
      "text/plain": [
       "xa-yoma        55\n",
       "ʾɛ-ga          46\n",
       "b-lɛle         44\n",
       "xa-ga          38\n",
       "yoma           37\n",
       "xarθa          35\n",
       "ʾaṣərta        30\n",
       "mbadla         27\n",
       "yomət          20\n",
       "qedamta        19\n",
       "dana           15\n",
       "yome           11\n",
       "dart-yoma      11\n",
       "ʾo-yoma        10\n",
       "ʾədlɛle        9 \n",
       "gaye           8 \n",
       "m-lɛle         7 \n",
       "hal-ʾaṣərta    7 \n",
       "tre-yome       6 \n",
       "zawna          6 \n",
       "b-yoma         6 \n",
       "ʾo-yomət       6 \n",
       "ʾaw-lɛle       5 \n",
       "ʾa-dana        5 \n",
       "hal-mbadla     5 \n",
       "Name: form, dtype: int64"
      ]
     },
     "execution_count": 8,
     "metadata": {},
     "output_type": "execute_result"
    }
   ],
   "source": [
    "advb_forms = adverbial_data.form.value_counts()\n",
    "\n",
    "advb_forms.head(25)"
   ]
  },
  {
   "cell_type": "code",
   "execution_count": 9,
   "metadata": {},
   "outputs": [
    {
     "data": {
      "text/plain": [
       "count    102.000000\n",
       "mean     5.784314  \n",
       "std      10.623743 \n",
       "min      1.000000  \n",
       "25%      1.000000  \n",
       "50%      1.000000  \n",
       "75%      5.000000  \n",
       "max      55.000000 \n",
       "Name: form, dtype: float64"
      ]
     },
     "execution_count": 9,
     "metadata": {},
     "output_type": "execute_result"
    }
   ],
   "source": [
    "advb_forms.describe()"
   ]
  },
  {
   "cell_type": "markdown",
   "metadata": {},
   "source": [
    "**All unique forms printed below:**"
   ]
  },
  {
   "cell_type": "code",
   "execution_count": 10,
   "metadata": {},
   "outputs": [
    {
     "data": {
      "text/plain": [
       "'b-lɛle, b-o-zawna, b-xa-yoma, b-yoma, b-yomaθa, b-ɛ-ga, b-ʾaṣərta, bar-tre-yome, d-o-zawna, d-ɛ-ga, dana, dart-yoma, dartət-yoma, gaye, gu-b-lɛle, gu-d-aw-zawna, gu-d-ɛ-dana, gu-mbadla, hal-mbadla, hal-o-yomət, hal-qedamta, hal-xa-ga, hal-yomət, hal-ʾaṣərta, hal-ʾo-yomət, hal-ʾɛ-ga, har-a-dana, har-b-o-lɛle, har-o-yoma, kli-ʾaw-lɛle, kut-dana, kut-qedamta, kut-yoma, kəma-dana, la-b-lɛle, la-b-yoma, la-zraq-yoma, m-la-gnay-yoma, m-lɛle, m-o-yoma, m-yomə, m-ʾaṣərta, mbadla, mən-d-o-yoma, mən-yoma, pəlgət-lɛle, qa-t-b-lɛle, qam-dana, qam-yoma, qedamta, sab-lɛle, ta-t-ʾo-yomət, tmanya-yome, tre-yome, xa-ga, xa-lɛle, xa-yoma, xarθa, xačča-dana, xu-lɛle, xu-mbadla, yoma, yome, yomət, zawna, ču-ga, šawwa-yome, ʾa-dana, ʾap-dartət-yoma, ʾap-ʾaṣərta, ʾap-ʾo-yoma, ʾap-ʾɛ-dana, ʾaw-lɛle, ʾax-d-ɛ-ga, ʾax-zawna, ʾay-ga, ʾay-xa-yoma, ʾaṣərta, ʾo-lɛle, ʾo-t-lɛle, ʾo-yoma, ʾo-yomət, ʾu-b-lɛle, ʾu-lɛle, ʾu-qedamta, ʾu-xa-ga, ʾu-yoma, ʾu-yomət, ʾu-ʾaṣərta, ʾu-ʾɛ-ga, ʾəd-lɛle, ʾədlɛle, ʾəlli-xa-ga, ʾən-lɛle, ʾəsri-w-ʾəč̣č̣a-yome, ʾəšta-yome, ʾɛ-dana, ʾɛ-ga, ṭla-yoma, ṭlaθa-yome, ṭḷa-yome, ṭḷaθi-yome'"
      ]
     },
     "execution_count": 10,
     "metadata": {},
     "output_type": "execute_result"
    }
   ],
   "source": [
    "', '.join(sorted(adverbial_data.form.unique()))"
   ]
  },
  {
   "cell_type": "code",
   "execution_count": 11,
   "metadata": {},
   "outputs": [
    {
     "data": {
      "text/html": [
       "<div>\n",
       "<style scoped>\n",
       "    .dataframe tbody tr th:only-of-type {\n",
       "        vertical-align: middle;\n",
       "    }\n",
       "\n",
       "    .dataframe tbody tr th {\n",
       "        vertical-align: top;\n",
       "    }\n",
       "\n",
       "    .dataframe thead th {\n",
       "        text-align: right;\n",
       "    }\n",
       "</style>\n",
       "<table border=\"1\" class=\"dataframe\">\n",
       "  <thead>\n",
       "    <tr style=\"text-align: right;\">\n",
       "      <th></th>\n",
       "      <th>form</th>\n",
       "      <th>sentence</th>\n",
       "    </tr>\n",
       "    <tr>\n",
       "      <th>node</th>\n",
       "      <th></th>\n",
       "      <th></th>\n",
       "    </tr>\n",
       "  </thead>\n",
       "  <tbody>\n",
       "    <tr>\n",
       "      <th>745472</th>\n",
       "      <td>yoma</td>\n",
       "      <td>la-zráqət yòmaˈ y-azìwa.ˈ</td>\n",
       "    </tr>\n",
       "    <tr>\n",
       "      <th>770055</th>\n",
       "      <td>xarθa</td>\n",
       "      <td>qărăčàyeˈ y-áθi hàtxaˈ ʾu-pɛ́ši xa-tre-ṭḷa-yomàne,ˈ xárθa y-àzi,ˈ jàwji.ˈ</td>\n",
       "    </tr>\n",
       "    <tr>\n",
       "      <th>753673</th>\n",
       "      <td>yome</td>\n",
       "      <td>ʾáp-ʾaw dàməx,ˈ Qaṭína dáməx tmànya yóme,ˈ dmìxle.ˈ</td>\n",
       "    </tr>\n",
       "    <tr>\n",
       "      <th>770058</th>\n",
       "      <td>xarθa</td>\n",
       "      <td>xárθa mšúrela mxáya l-nàše.ˈ</td>\n",
       "    </tr>\n",
       "    <tr>\n",
       "      <th>743435</th>\n",
       "      <td>dart-yoma</td>\n",
       "      <td>dárt-yoma náše θéla škèla.ˈ</td>\n",
       "    </tr>\n",
       "    <tr>\n",
       "      <th>759820</th>\n",
       "      <td>xa-yoma</td>\n",
       "      <td>xá-yoma mə́re xázən mò ṱ-áwəð ʾáwwa páṛa.ˈ</td>\n",
       "    </tr>\n",
       "    <tr>\n",
       "      <th>780297</th>\n",
       "      <td>zawna</td>\n",
       "      <td>záwna wíyɛle t-šlàmaˈ ʾáp-ati píšlux nášət šlàma.ˈ</td>\n",
       "    </tr>\n",
       "    <tr>\n",
       "      <th>751637</th>\n",
       "      <td>xarθa</td>\n",
       "      <td>zìlla,ˈ xárθa m-rə́ḥqa xzéla xa-mə́ndi xwàra.ˈ</td>\n",
       "    </tr>\n",
       "    <tr>\n",
       "      <th>749592</th>\n",
       "      <td>xa-ga</td>\n",
       "      <td>zmìrtɛla qáṭu xá-ga xétaˈ ʾu-qíme rqàðɛla.ˈ</td>\n",
       "    </tr>\n",
       "    <tr>\n",
       "      <th>741413</th>\n",
       "      <td>xa-ga</td>\n",
       "      <td>díṛṛa xá-ga xéta l-ʾaθrày.ˈ</td>\n",
       "    </tr>\n",
       "    <tr>\n",
       "      <th>753701</th>\n",
       "      <td>ʾaw-lɛle</td>\n",
       "      <td>qəm-nablále kəs-jàqšiˈ qəm-oðále sɛ́pe dìye,ˈ ʾaw-lɛ́le ðìya.ˈ</td>\n",
       "    </tr>\n",
       "    <tr>\n",
       "      <th>753703</th>\n",
       "      <td>ʾaw-lɛle</td>\n",
       "      <td>ʾaw-lɛ́le ðìya,ˈ híwtəlle sɛ́pe dìye.ˈ</td>\n",
       "    </tr>\n",
       "    <tr>\n",
       "      <th>774181</th>\n",
       "      <td>yome</td>\n",
       "      <td>mə́ra bábi xáθux Nasìmoˈ \\nxámši yóme ṣimìlaˈ \\nqurbáne t-la qriwìlaˈ \\n</td>\n",
       "    </tr>\n",
       "    <tr>\n",
       "      <th>774186</th>\n",
       "      <td>ʾo-yoma</td>\n",
       "      <td>ʾo-yóma t-qarwàwaleˈ \\ndášta ṃḷéla rakàweˈ \\nxáθux Nasímo jlíwtɛla l-ʾarabàyeˈ \\nmuṣlyə́lla l-ʾáθṛa t-xtàyeˈ</td>\n",
       "    </tr>\n",
       "    <tr>\n",
       "      <th>753709</th>\n",
       "      <td>mbadla</td>\n",
       "      <td>qímɛle mbàdla.ˈ</td>\n",
       "    </tr>\n",
       "    <tr>\n",
       "      <th>753711</th>\n",
       "      <td>yome</td>\n",
       "      <td>tmánya yóme dmìxɛleˈ ʾu-prìqɛle,ˈ ṛìšɛle.ˈ</td>\n",
       "    </tr>\n",
       "    <tr>\n",
       "      <th>768047</th>\n",
       "      <td>b-lɛle</td>\n",
       "      <td>b-lɛ̀leˈ šuréla xá-bena xéta ṣlèla.ˈ</td>\n",
       "    </tr>\n",
       "    <tr>\n",
       "      <th>745525</th>\n",
       "      <td>b-o-zawna</td>\n",
       "      <td>y-áwɛ tíwe xāṣ-sùsa,ˈ ʾu-rumxéy hàtxa,ˈ ʾu-nášət y-áwa b-o-záwna jwája xāṣ-sùsa,ˈ yắðət dax-y-àwɛ.ˈ</td>\n",
       "    </tr>\n",
       "    <tr>\n",
       "      <th>743480</th>\n",
       "      <td>xa-lɛle</td>\n",
       "      <td>xa-lɛ́le xílla bàba.ˈ</td>\n",
       "    </tr>\n",
       "    <tr>\n",
       "      <th>743483</th>\n",
       "      <td>xa-lɛle</td>\n",
       "      <td>xa-lɛ́le xílla yə̀mma.ˈ</td>\n",
       "    </tr>\n",
       "    <tr>\n",
       "      <th>778314</th>\n",
       "      <td>kli-ʾaw-lɛle</td>\n",
       "      <td>mə́re kli-ʾaw-lɛ̀le šúlux,ˈ ṱ-ásqən ʾána b-gàni.ˈ</td>\n",
       "    </tr>\n",
       "    <tr>\n",
       "      <th>774219</th>\n",
       "      <td>yome</td>\n",
       "      <td>mə́ra bábi xáθux Nasìmoˈ \\nxámši yóme ṣimìlaˈ \\nqurbáne t-la qriwìlaˈ \\n</td>\n",
       "    </tr>\n",
       "    <tr>\n",
       "      <th>741455</th>\n",
       "      <td>xa-yoma</td>\n",
       "      <td>ʾáp-awwa sìqɛle gu-ṭúraˈ mən-xuráne díye píšɛle gu-ṭúra xá-yoma yóme trè.ˈ</td>\n",
       "    </tr>\n",
       "    <tr>\n",
       "      <th>741456</th>\n",
       "      <td>yome</td>\n",
       "      <td>ʾáp-awwa sìqɛle gu-ṭúraˈ mən-xuráne díye píšɛle gu-ṭúra xá-yoma yóme trè.ˈ</td>\n",
       "    </tr>\n",
       "    <tr>\n",
       "      <th>774224</th>\n",
       "      <td>ʾo-yoma</td>\n",
       "      <td>ʾo-yóma t-qarwàwaleˈ \\ndášta ṃḷéla rakàweˈ \\nzílla máθət arabàyeˈ \\nxáθux Nasímo muṣlyə́lla l-ʾáθṛa t-xtàyeˈ \\nkɛ̀la xáθi Nasímo?ˈ</td>\n",
       "    </tr>\n",
       "  </tbody>\n",
       "</table>\n",
       "</div>"
      ],
      "text/plain": [
       "                form  \\\n",
       "node                   \n",
       "745472  yoma           \n",
       "770055  xarθa          \n",
       "753673  yome           \n",
       "770058  xarθa          \n",
       "743435  dart-yoma      \n",
       "759820  xa-yoma        \n",
       "780297  zawna          \n",
       "751637  xarθa          \n",
       "749592  xa-ga          \n",
       "741413  xa-ga          \n",
       "753701  ʾaw-lɛle       \n",
       "753703  ʾaw-lɛle       \n",
       "774181  yome           \n",
       "774186  ʾo-yoma        \n",
       "753709  mbadla         \n",
       "753711  yome           \n",
       "768047  b-lɛle         \n",
       "745525  b-o-zawna      \n",
       "743480  xa-lɛle        \n",
       "743483  xa-lɛle        \n",
       "778314  kli-ʾaw-lɛle   \n",
       "774219  yome           \n",
       "741455  xa-yoma        \n",
       "741456  yome           \n",
       "774224  ʾo-yoma        \n",
       "\n",
       "                                                                                                                                  sentence  \n",
       "node                                                                                                                                        \n",
       "745472  la-zráqət yòmaˈ y-azìwa.ˈ                                                                                                           \n",
       "770055  qărăčàyeˈ y-áθi hàtxaˈ ʾu-pɛ́ši xa-tre-ṭḷa-yomàne,ˈ xárθa y-àzi,ˈ jàwji.ˈ                                                           \n",
       "753673  ʾáp-ʾaw dàməx,ˈ Qaṭína dáməx tmànya yóme,ˈ dmìxle.ˈ                                                                                 \n",
       "770058  xárθa mšúrela mxáya l-nàše.ˈ                                                                                                        \n",
       "743435  dárt-yoma náše θéla škèla.ˈ                                                                                                         \n",
       "759820  xá-yoma mə́re xázən mò ṱ-áwəð ʾáwwa páṛa.ˈ                                                                                          \n",
       "780297  záwna wíyɛle t-šlàmaˈ ʾáp-ati píšlux nášət šlàma.ˈ                                                                                  \n",
       "751637  zìlla,ˈ xárθa m-rə́ḥqa xzéla xa-mə́ndi xwàra.ˈ                                                                                      \n",
       "749592  zmìrtɛla qáṭu xá-ga xétaˈ ʾu-qíme rqàðɛla.ˈ                                                                                         \n",
       "741413  díṛṛa xá-ga xéta l-ʾaθrày.ˈ                                                                                                         \n",
       "753701  qəm-nablále kəs-jàqšiˈ qəm-oðále sɛ́pe dìye,ˈ ʾaw-lɛ́le ðìya.ˈ                                                                      \n",
       "753703  ʾaw-lɛ́le ðìya,ˈ híwtəlle sɛ́pe dìye.ˈ                                                                                              \n",
       "774181  mə́ra bábi xáθux Nasìmoˈ \\nxámši yóme ṣimìlaˈ \\nqurbáne t-la qriwìlaˈ \\n                                                            \n",
       "774186  ʾo-yóma t-qarwàwaleˈ \\ndášta ṃḷéla rakàweˈ \\nxáθux Nasímo jlíwtɛla l-ʾarabàyeˈ \\nmuṣlyə́lla l-ʾáθṛa t-xtàyeˈ                        \n",
       "753709  qímɛle mbàdla.ˈ                                                                                                                     \n",
       "753711  tmánya yóme dmìxɛleˈ ʾu-prìqɛle,ˈ ṛìšɛle.ˈ                                                                                          \n",
       "768047  b-lɛ̀leˈ šuréla xá-bena xéta ṣlèla.ˈ                                                                                                \n",
       "745525  y-áwɛ tíwe xāṣ-sùsa,ˈ ʾu-rumxéy hàtxa,ˈ ʾu-nášət y-áwa b-o-záwna jwája xāṣ-sùsa,ˈ yắðət dax-y-àwɛ.ˈ                                 \n",
       "743480  xa-lɛ́le xílla bàba.ˈ                                                                                                               \n",
       "743483  xa-lɛ́le xílla yə̀mma.ˈ                                                                                                             \n",
       "778314  mə́re kli-ʾaw-lɛ̀le šúlux,ˈ ṱ-ásqən ʾána b-gàni.ˈ                                                                                   \n",
       "774219  mə́ra bábi xáθux Nasìmoˈ \\nxámši yóme ṣimìlaˈ \\nqurbáne t-la qriwìlaˈ \\n                                                            \n",
       "741455  ʾáp-awwa sìqɛle gu-ṭúraˈ mən-xuráne díye píšɛle gu-ṭúra xá-yoma yóme trè.ˈ                                                          \n",
       "741456  ʾáp-awwa sìqɛle gu-ṭúraˈ mən-xuráne díye píšɛle gu-ṭúra xá-yoma yóme trè.ˈ                                                          \n",
       "774224  ʾo-yóma t-qarwàwaleˈ \\ndášta ṃḷéla rakàweˈ \\nzílla máθət arabàyeˈ \\nxáθux Nasímo muṣlyə́lla l-ʾáθṛa t-xtàyeˈ \\nkɛ̀la xáθi Nasímo?ˈ  "
      ]
     },
     "execution_count": 11,
     "metadata": {},
     "output_type": "execute_result"
    }
   ],
   "source": [
    "adverbial_data.head(25)"
   ]
  },
  {
   "cell_type": "markdown",
   "metadata": {},
   "source": [
    "## Select verbs"
   ]
  },
  {
   "cell_type": "code",
   "execution_count": 12,
   "metadata": {},
   "outputs": [],
   "source": [
    "verbs = {\n",
    "    'qtilele': {\n",
    "        'zilɛle', 'ziltɛla',\n",
    "        'ʾəθyɛle', 'θiθɛla',\n",
    "        'qimɛle', 'qimtɛla',\n",
    "        'ṣəlyɛle', 'ṣliθɛla', \n",
    "        'siqɛle', 'siqtɛla',\n",
    "        'diṛɛle', 'diṛtɛla',\n",
    "        'wirɛle', 'wirtɛla',\n",
    "        'pliṭɛle', 'pliṭṭɛla',\n",
    "        'riqɛle', 'riqtɛla',\n",
    "        'tiwɛle', 'tiwtɛla',\n",
    "        'pišɛle', 'pištɛla',\n",
    "        'šqilɛle', 'šqiltɛla',\n",
    "        'npilɛle', 'npiltɛla',\n",
    "        'məṭyɛle', 'mṭiθɛla',\n",
    "    },\n",
    "    'qtille': {\n",
    "        'zille', 'zilla', \n",
    "        'θele', 'θela', \n",
    "        'qimle', 'qimla',\n",
    "        'ṣlele', 'ṣlela', \n",
    "        'siqle', 'siqla', \n",
    "        'diṛṛe', 'diṛṛa',\n",
    "        'wirre', 'wirra',\n",
    "        'pliṭle', 'pliṭla',\n",
    "        'riqle', 'riqla',\n",
    "        'tiwle', 'tiwle',\n",
    "        'pišle', 'pišla',\n",
    "        'šqille', 'šqilla',\n",
    "        'npille', 'npilla',\n",
    "        'mṭele', 'mṭela',\n",
    "    },\n",
    "}"
   ]
  },
  {
   "cell_type": "code",
   "execution_count": 13,
   "metadata": {},
   "outputs": [],
   "source": [
    "verb_data = []\n",
    "\n",
    "found_forms = collections.defaultdict(set)\n",
    "\n",
    "for word in L.d(barwar,'word'):\n",
    "    text = normalize_nena(word, nena.api)\n",
    "    for vkind, vforms in verbs.items():\n",
    "        if text in vforms:\n",
    "            \n",
    "            # intonation group boundary data\n",
    "            inton = L.u(word,'inton')[0]\n",
    "            inton_words = L.d(inton,'word')\n",
    "            inton_pos = inton_words.index(word) + 1\n",
    "            \n",
    "            # sentence data\n",
    "            sentence = L.u(word,'sentence')[0]\n",
    "            sentence_words = L.d(sentence,'word')\n",
    "            sent_pos = sentence_words.index(word) + 1\n",
    "            \n",
    "            # paragraph data\n",
    "            paragraph = L.u(sentence,'paragraph')[0]\n",
    "            para_sents = L.d(paragraph,'sentence')\n",
    "            para_pos = para_sents.index(sentence) + 1\n",
    "                            \n",
    "            # adverbials data\n",
    "            sent_adverbials = adverbials & set(sentence_words)\n",
    "            advb_text = '+'.join(\n",
    "                normalize_nena(advb, nena.api) for advb in sent_adverbials\n",
    "            )\n",
    "            \n",
    "            verb_data.append({\n",
    "                'node': word,\n",
    "                'form': text,\n",
    "                'vkind': vkind,\n",
    "                'sentence': T.text(sentence),\n",
    "                'sent_pos': sent_pos,\n",
    "                'inton_pos': inton_pos,\n",
    "                'para_pos': para_pos,\n",
    "                'sent_first': sent_pos == 1,\n",
    "                'inton_first': inton_pos == 1,\n",
    "                'para_first': para_pos == 1 ,\n",
    "                'advb': bool(sent_adverbials),\n",
    "                'advb_form': advb_text or np.nan, \n",
    "            })\n",
    "            found_forms[vkind].add(text)\n",
    "            \n",
    "verb_data = pd.DataFrame(verb_data).set_index('node')"
   ]
  },
  {
   "cell_type": "code",
   "execution_count": 14,
   "metadata": {},
   "outputs": [
    {
     "data": {
      "text/html": [
       "<div>\n",
       "<style scoped>\n",
       "    .dataframe tbody tr th:only-of-type {\n",
       "        vertical-align: middle;\n",
       "    }\n",
       "\n",
       "    .dataframe tbody tr th {\n",
       "        vertical-align: top;\n",
       "    }\n",
       "\n",
       "    .dataframe thead th {\n",
       "        text-align: right;\n",
       "    }\n",
       "</style>\n",
       "<table border=\"1\" class=\"dataframe\">\n",
       "  <thead>\n",
       "    <tr style=\"text-align: right;\">\n",
       "      <th></th>\n",
       "      <th>form</th>\n",
       "      <th>vkind</th>\n",
       "      <th>sentence</th>\n",
       "      <th>sent_pos</th>\n",
       "      <th>inton_pos</th>\n",
       "      <th>para_pos</th>\n",
       "      <th>sent_first</th>\n",
       "      <th>inton_first</th>\n",
       "      <th>para_first</th>\n",
       "      <th>advb</th>\n",
       "      <th>advb_form</th>\n",
       "    </tr>\n",
       "    <tr>\n",
       "      <th>node</th>\n",
       "      <th></th>\n",
       "      <th></th>\n",
       "      <th></th>\n",
       "      <th></th>\n",
       "      <th></th>\n",
       "      <th></th>\n",
       "      <th></th>\n",
       "      <th></th>\n",
       "      <th></th>\n",
       "      <th></th>\n",
       "      <th></th>\n",
       "    </tr>\n",
       "  </thead>\n",
       "  <tbody>\n",
       "    <tr>\n",
       "      <th>739838</th>\n",
       "      <td>pliṭla</td>\n",
       "      <td>qtille</td>\n",
       "      <td>plíṭla ʾə́č̣č̣i-u ʾə̀č̣č̣a.ˈ</td>\n",
       "      <td>1</td>\n",
       "      <td>1</td>\n",
       "      <td>16</td>\n",
       "      <td>True</td>\n",
       "      <td>True</td>\n",
       "      <td>False</td>\n",
       "      <td>False</td>\n",
       "      <td>NaN</td>\n",
       "    </tr>\n",
       "    <tr>\n",
       "      <th>739916</th>\n",
       "      <td>ʾəθyɛle</td>\n",
       "      <td>qtilele</td>\n",
       "      <td>sáʾət ʾə́šta mbàdlaˈ ʾə́θyɛle huðáya wáða ṭəq-ṭəq-ṭə́q l-ṭằra.ˈ</td>\n",
       "      <td>4</td>\n",
       "      <td>1</td>\n",
       "      <td>32</td>\n",
       "      <td>False</td>\n",
       "      <td>True</td>\n",
       "      <td>False</td>\n",
       "      <td>True</td>\n",
       "      <td>mbadla</td>\n",
       "    </tr>\n",
       "    <tr>\n",
       "      <th>740004</th>\n",
       "      <td>qimɛle</td>\n",
       "      <td>qtilele</td>\n",
       "      <td>qímɛle ʾaw-lwíša dašdàšət málla,ˈ ʾu-čak̭àllət málla,ˈ málla lwíšɛle kášxa d-o-huðàyaˈ ʾu-tíwɛle xáṣət xmàrta,ˈ ʾu-síqela kəs-qàzi.ˈ</td>\n",
       "      <td>1</td>\n",
       "      <td>1</td>\n",
       "      <td>51</td>\n",
       "      <td>True</td>\n",
       "      <td>True</td>\n",
       "      <td>False</td>\n",
       "      <td>False</td>\n",
       "      <td>NaN</td>\n",
       "    </tr>\n",
       "    <tr>\n",
       "      <th>740019</th>\n",
       "      <td>siqɛle</td>\n",
       "      <td>qtilele</td>\n",
       "      <td>síqɛle kəs-qàzi,ˈ wírela šarṭ-qàzi.ˈ</td>\n",
       "      <td>1</td>\n",
       "      <td>1</td>\n",
       "      <td>52</td>\n",
       "      <td>True</td>\n",
       "      <td>True</td>\n",
       "      <td>False</td>\n",
       "      <td>False</td>\n",
       "      <td>NaN</td>\n",
       "    </tr>\n",
       "    <tr>\n",
       "      <th>740182</th>\n",
       "      <td>zilɛle</td>\n",
       "      <td>qtilele</td>\n",
       "      <td>ʾu-ʾáwwa-ži zìlɛle.ˈ</td>\n",
       "      <td>2</td>\n",
       "      <td>2</td>\n",
       "      <td>16</td>\n",
       "      <td>False</td>\n",
       "      <td>False</td>\n",
       "      <td>False</td>\n",
       "      <td>False</td>\n",
       "      <td>NaN</td>\n",
       "    </tr>\n",
       "    <tr>\n",
       "      <th>...</th>\n",
       "      <td>...</td>\n",
       "      <td>...</td>\n",
       "      <td>...</td>\n",
       "      <td>...</td>\n",
       "      <td>...</td>\n",
       "      <td>...</td>\n",
       "      <td>...</td>\n",
       "      <td>...</td>\n",
       "      <td>...</td>\n",
       "      <td>...</td>\n",
       "      <td>...</td>\n",
       "    </tr>\n",
       "    <tr>\n",
       "      <th>781725</th>\n",
       "      <td>pliṭla</td>\n",
       "      <td>qtille</td>\n",
       "      <td>plíṭla trè-xure.ˈ</td>\n",
       "      <td>1</td>\n",
       "      <td>1</td>\n",
       "      <td>12</td>\n",
       "      <td>True</td>\n",
       "      <td>True</td>\n",
       "      <td>False</td>\n",
       "      <td>False</td>\n",
       "      <td>NaN</td>\n",
       "    </tr>\n",
       "    <tr>\n",
       "      <th>781737</th>\n",
       "      <td>pliṭla</td>\n",
       "      <td>qtille</td>\n",
       "      <td>kazíwa práməlla har-palṭìwa,ˈ hál plíṭla hàtxa.ˈ</td>\n",
       "      <td>5</td>\n",
       "      <td>2</td>\n",
       "      <td>14</td>\n",
       "      <td>False</td>\n",
       "      <td>False</td>\n",
       "      <td>False</td>\n",
       "      <td>False</td>\n",
       "      <td>NaN</td>\n",
       "    </tr>\n",
       "    <tr>\n",
       "      <th>781747</th>\n",
       "      <td>pišla</td>\n",
       "      <td>qtille</td>\n",
       "      <td>yə́mme díye píšla qwára gàna.ˈ</td>\n",
       "      <td>3</td>\n",
       "      <td>3</td>\n",
       "      <td>16</td>\n",
       "      <td>False</td>\n",
       "      <td>False</td>\n",
       "      <td>False</td>\n",
       "      <td>False</td>\n",
       "      <td>NaN</td>\n",
       "    </tr>\n",
       "    <tr>\n",
       "      <th>781761</th>\n",
       "      <td>zille</td>\n",
       "      <td>qtille</td>\n",
       "      <td>brónəx zìlle.ˈ</td>\n",
       "      <td>2</td>\n",
       "      <td>2</td>\n",
       "      <td>19</td>\n",
       "      <td>False</td>\n",
       "      <td>False</td>\n",
       "      <td>False</td>\n",
       "      <td>False</td>\n",
       "      <td>NaN</td>\n",
       "    </tr>\n",
       "    <tr>\n",
       "      <th>781763</th>\n",
       "      <td>zilla</td>\n",
       "      <td>qtille</td>\n",
       "      <td>kálθəx zìlla.ˈ</td>\n",
       "      <td>2</td>\n",
       "      <td>2</td>\n",
       "      <td>20</td>\n",
       "      <td>False</td>\n",
       "      <td>False</td>\n",
       "      <td>False</td>\n",
       "      <td>False</td>\n",
       "      <td>NaN</td>\n",
       "    </tr>\n",
       "  </tbody>\n",
       "</table>\n",
       "<p>1591 rows × 11 columns</p>\n",
       "</div>"
      ],
      "text/plain": [
       "           form    vkind  \\\n",
       "node                       \n",
       "739838  pliṭla   qtille    \n",
       "739916  ʾəθyɛle  qtilele   \n",
       "740004  qimɛle   qtilele   \n",
       "740019  siqɛle   qtilele   \n",
       "740182  zilɛle   qtilele   \n",
       "...        ...       ...   \n",
       "781725  pliṭla   qtille    \n",
       "781737  pliṭla   qtille    \n",
       "781747  pišla    qtille    \n",
       "781761  zille    qtille    \n",
       "781763  zilla    qtille    \n",
       "\n",
       "                                                                                                                                     sentence  \\\n",
       "node                                                                                                                                            \n",
       "739838  plíṭla ʾə́č̣č̣i-u ʾə̀č̣č̣a.ˈ                                                                                                            \n",
       "739916  sáʾət ʾə́šta mbàdlaˈ ʾə́θyɛle huðáya wáða ṭəq-ṭəq-ṭə́q l-ṭằra.ˈ                                                                         \n",
       "740004  qímɛle ʾaw-lwíša dašdàšət málla,ˈ ʾu-čak̭àllət málla,ˈ málla lwíšɛle kášxa d-o-huðàyaˈ ʾu-tíwɛle xáṣət xmàrta,ˈ ʾu-síqela kəs-qàzi.ˈ    \n",
       "740019  síqɛle kəs-qàzi,ˈ wírela šarṭ-qàzi.ˈ                                                                                                    \n",
       "740182  ʾu-ʾáwwa-ži zìlɛle.ˈ                                                                                                                    \n",
       "...                                       ...                                                                                                   \n",
       "781725  plíṭla trè-xure.ˈ                                                                                                                       \n",
       "781737  kazíwa práməlla har-palṭìwa,ˈ hál plíṭla hàtxa.ˈ                                                                                        \n",
       "781747  yə́mme díye píšla qwára gàna.ˈ                                                                                                          \n",
       "781761  brónəx zìlle.ˈ                                                                                                                          \n",
       "781763  kálθəx zìlla.ˈ                                                                                                                          \n",
       "\n",
       "        sent_pos  inton_pos  para_pos  sent_first  inton_first  para_first  \\\n",
       "node                                                                         \n",
       "739838  1         1          16        True        True         False        \n",
       "739916  4         1          32        False       True         False        \n",
       "740004  1         1          51        True        True         False        \n",
       "740019  1         1          52        True        True         False        \n",
       "740182  2         2          16        False       False        False        \n",
       "...    ..        ..          ..         ...         ...           ...        \n",
       "781725  1         1          12        True        True         False        \n",
       "781737  5         2          14        False       False        False        \n",
       "781747  3         3          16        False       False        False        \n",
       "781761  2         2          19        False       False        False        \n",
       "781763  2         2          20        False       False        False        \n",
       "\n",
       "         advb advb_form  \n",
       "node                     \n",
       "739838  False  NaN       \n",
       "739916  True   mbadla    \n",
       "740004  False  NaN       \n",
       "740019  False  NaN       \n",
       "740182  False  NaN       \n",
       "...       ...  ...       \n",
       "781725  False  NaN       \n",
       "781737  False  NaN       \n",
       "781747  False  NaN       \n",
       "781761  False  NaN       \n",
       "781763  False  NaN       \n",
       "\n",
       "[1591 rows x 11 columns]"
      ]
     },
     "execution_count": 14,
     "metadata": {},
     "output_type": "execute_result"
    }
   ],
   "source": [
    "verb_data"
   ]
  },
  {
   "cell_type": "code",
   "execution_count": 15,
   "metadata": {},
   "outputs": [],
   "source": [
    "verb_data.to_csv('verb_dataset.tsv', sep='\\t')"
   ]
  },
  {
   "cell_type": "markdown",
   "metadata": {},
   "source": [
    "We inspect the categories of data in our selection."
   ]
  },
  {
   "cell_type": "code",
   "execution_count": 16,
   "metadata": {},
   "outputs": [
    {
     "data": {
      "text/plain": [
       "count     1591  \n",
       "unique    55    \n",
       "top       qimɛle\n",
       "freq      194   \n",
       "Name: form, dtype: object"
      ]
     },
     "execution_count": 16,
     "metadata": {},
     "output_type": "execute_result"
    }
   ],
   "source": [
    "verb_data.form.describe()"
   ]
  },
  {
   "cell_type": "code",
   "execution_count": 17,
   "metadata": {},
   "outputs": [
    {
     "data": {
      "text/plain": [
       "qimɛle      194\n",
       "θele        112\n",
       "zilɛle      92 \n",
       "zille       91 \n",
       "ʾəθyɛle     70 \n",
       "zilla       67 \n",
       "pišle       65 \n",
       "siqɛle      58 \n",
       "pišla       55 \n",
       "qimtɛla     45 \n",
       "ṣəlyɛle     44 \n",
       "θela        43 \n",
       "ṣlela       37 \n",
       "tiwɛle      35 \n",
       "mṭele       32 \n",
       "pišɛle      31 \n",
       "qimle       30 \n",
       "ṣlele       29 \n",
       "θiθɛla      28 \n",
       "siqle       26 \n",
       "qimla       23 \n",
       "məṭyɛle     23 \n",
       "ziltɛla     22 \n",
       "siqla       21 \n",
       "pliṭle      21 \n",
       "pliṭɛle     21 \n",
       "wirɛle      21 \n",
       "wirre       19 \n",
       "šqille      17 \n",
       "ṣliθɛla     15 \n",
       "pliṭṭɛla    14 \n",
       "šqilɛle     12 \n",
       "mṭela       12 \n",
       "pištɛla     12 \n",
       "pliṭla      12 \n",
       "diṛɛle      12 \n",
       "tiwle       12 \n",
       "riqle       11 \n",
       "siqtɛla     11 \n",
       "npille      10 \n",
       "wirra       10 \n",
       "tiwtɛla     10 \n",
       "wirtɛla     8  \n",
       "diṛṛe       8  \n",
       "riqɛle      7  \n",
       "npilɛle     7  \n",
       "riqtɛla     6  \n",
       "šqilla      5  \n",
       "šqiltɛla    5  \n",
       "mṭiθɛla     5  \n",
       "diṛṛa       4  \n",
       "npilla      4  \n",
       "npiltɛla    3  \n",
       "diṛtɛla     2  \n",
       "riqla       2  \n",
       "Name: form, dtype: int64"
      ]
     },
     "execution_count": 17,
     "metadata": {},
     "output_type": "execute_result"
    }
   ],
   "source": [
    "verb_data.form.value_counts()"
   ]
  },
  {
   "cell_type": "code",
   "execution_count": 18,
   "metadata": {},
   "outputs": [
    {
     "data": {
      "text/plain": [
       "qtilele    813\n",
       "qtille     778\n",
       "Name: vkind, dtype: int64"
      ]
     },
     "execution_count": 18,
     "metadata": {},
     "output_type": "execute_result"
    }
   ],
   "source": [
    "verb_data.vkind.value_counts()"
   ]
  },
  {
   "cell_type": "markdown",
   "metadata": {},
   "source": [
    "### Check for missing verb kinds\n",
    "Below we double check that we are not missing any results we intend to select."
   ]
  },
  {
   "cell_type": "code",
   "execution_count": 19,
   "metadata": {},
   "outputs": [
    {
     "name": "stdout",
     "output_type": "stream",
     "text": [
      "not found for qtille:\n",
      "set()\n",
      "not found for qtilele:\n",
      "set()\n"
     ]
    }
   ],
   "source": [
    "for vkind, foundforms in found_forms.items():\n",
    "    print(f'not found for {vkind}:')\n",
    "    print(verbs[vkind] - foundforms)"
   ]
  },
  {
   "cell_type": "markdown",
   "metadata": {},
   "source": [
    "This means we've found all of the forms which we wanted to find."
   ]
  },
  {
   "cell_type": "markdown",
   "metadata": {},
   "source": [
    "# Correlation Analysis\n",
    "\n",
    "Now we will do some analysis of correlations between various features."
   ]
  },
  {
   "cell_type": "markdown",
   "metadata": {},
   "source": [
    "## Verb type has adverbial in same sentence\n",
    "\n",
    "In the table below, we provide a count of how often each verb type occurs with an adverbial."
   ]
  },
  {
   "cell_type": "code",
   "execution_count": 20,
   "metadata": {},
   "outputs": [
    {
     "data": {
      "text/html": [
       "<div>\n",
       "<style scoped>\n",
       "    .dataframe tbody tr th:only-of-type {\n",
       "        vertical-align: middle;\n",
       "    }\n",
       "\n",
       "    .dataframe tbody tr th {\n",
       "        vertical-align: top;\n",
       "    }\n",
       "\n",
       "    .dataframe thead th {\n",
       "        text-align: right;\n",
       "    }\n",
       "</style>\n",
       "<table border=\"1\" class=\"dataframe\">\n",
       "  <thead>\n",
       "    <tr style=\"text-align: right;\">\n",
       "      <th>advb</th>\n",
       "      <th>False</th>\n",
       "      <th>True</th>\n",
       "    </tr>\n",
       "    <tr>\n",
       "      <th>vkind</th>\n",
       "      <th></th>\n",
       "      <th></th>\n",
       "    </tr>\n",
       "  </thead>\n",
       "  <tbody>\n",
       "    <tr>\n",
       "      <th>qtilele</th>\n",
       "      <td>733</td>\n",
       "      <td>80</td>\n",
       "    </tr>\n",
       "    <tr>\n",
       "      <th>qtille</th>\n",
       "      <td>679</td>\n",
       "      <td>99</td>\n",
       "    </tr>\n",
       "  </tbody>\n",
       "</table>\n",
       "</div>"
      ],
      "text/plain": [
       "advb     False  True\n",
       "vkind               \n",
       "qtilele  733    80  \n",
       "qtille   679    99  "
      ]
     },
     "execution_count": 20,
     "metadata": {},
     "output_type": "execute_result"
    }
   ],
   "source": [
    "advb_cor = pd.pivot_table(verb_data, index='vkind', columns=['advb'], aggfunc='size')\n",
    "\n",
    "advb_cor"
   ]
  },
  {
   "cell_type": "markdown",
   "metadata": {},
   "source": [
    "Next, we convert the rows to ratios ($\\%$). The decimal values below are out of $1$ and can be read, e.g. as $0.90$ is $90\\%$."
   ]
  },
  {
   "cell_type": "code",
   "execution_count": 21,
   "metadata": {},
   "outputs": [
    {
     "data": {
      "text/html": [
       "<div>\n",
       "<style scoped>\n",
       "    .dataframe tbody tr th:only-of-type {\n",
       "        vertical-align: middle;\n",
       "    }\n",
       "\n",
       "    .dataframe tbody tr th {\n",
       "        vertical-align: top;\n",
       "    }\n",
       "\n",
       "    .dataframe thead th {\n",
       "        text-align: right;\n",
       "    }\n",
       "</style>\n",
       "<table border=\"1\" class=\"dataframe\">\n",
       "  <thead>\n",
       "    <tr style=\"text-align: right;\">\n",
       "      <th>advb</th>\n",
       "      <th>False</th>\n",
       "      <th>True</th>\n",
       "    </tr>\n",
       "    <tr>\n",
       "      <th>vkind</th>\n",
       "      <th></th>\n",
       "      <th></th>\n",
       "    </tr>\n",
       "  </thead>\n",
       "  <tbody>\n",
       "    <tr>\n",
       "      <th>qtilele</th>\n",
       "      <td>0.901599</td>\n",
       "      <td>0.098401</td>\n",
       "    </tr>\n",
       "    <tr>\n",
       "      <th>qtille</th>\n",
       "      <td>0.872751</td>\n",
       "      <td>0.127249</td>\n",
       "    </tr>\n",
       "  </tbody>\n",
       "</table>\n",
       "</div>"
      ],
      "text/plain": [
       "advb        False      True\n",
       "vkind                      \n",
       "qtilele  0.901599  0.098401\n",
       "qtille   0.872751  0.127249"
      ]
     },
     "execution_count": 21,
     "metadata": {},
     "output_type": "execute_result"
    }
   ],
   "source": [
    "advb_corr_ratio = advb_cor.div(advb_cor.sum(1), axis=0)\n",
    "\n",
    "advb_corr_ratio"
   ]
  },
  {
   "cell_type": "markdown",
   "metadata": {},
   "source": [
    "Note that $13\\%$ of the qtille verb type also contains an adverbial in the same sentence. This is as compared with only $10\\%$ for qtilele. **This is in line with our hypothesis**."
   ]
  },
  {
   "cell_type": "markdown",
   "metadata": {},
   "source": [
    "We want to see whether the difference in proportion are statistically significant. Below we apply the Fisher's Exact test, which is a test for significance. Following Gries and Stefanowitsch, we also apply a $\\log10$ transformation as well as sign change (negative when observed frequency is lower than expected). "
   ]
  },
  {
   "cell_type": "code",
   "execution_count": 22,
   "metadata": {},
   "outputs": [
    {
     "data": {
      "text/html": [
       "<div>\n",
       "<style scoped>\n",
       "    .dataframe tbody tr th:only-of-type {\n",
       "        vertical-align: middle;\n",
       "    }\n",
       "\n",
       "    .dataframe tbody tr th {\n",
       "        vertical-align: top;\n",
       "    }\n",
       "\n",
       "    .dataframe thead th {\n",
       "        text-align: right;\n",
       "    }\n",
       "</style>\n",
       "<table border=\"1\" class=\"dataframe\">\n",
       "  <thead>\n",
       "    <tr style=\"text-align: right;\">\n",
       "      <th></th>\n",
       "      <th>False</th>\n",
       "      <th>True</th>\n",
       "    </tr>\n",
       "  </thead>\n",
       "  <tbody>\n",
       "    <tr>\n",
       "      <th>qtilele</th>\n",
       "      <td>1.093646</td>\n",
       "      <td>-1.093646</td>\n",
       "    </tr>\n",
       "    <tr>\n",
       "      <th>qtille</th>\n",
       "      <td>-1.093646</td>\n",
       "      <td>1.093646</td>\n",
       "    </tr>\n",
       "  </tbody>\n",
       "</table>\n",
       "</div>"
      ],
      "text/plain": [
       "            False      True\n",
       "qtilele  1.093646 -1.093646\n",
       "qtille  -1.093646  1.093646"
      ]
     },
     "execution_count": 22,
     "metadata": {},
     "output_type": "execute_result"
    }
   ],
   "source": [
    "advb_corr_fishers, advb_corr_odds = apply_fishers(advb_cor, 0, 1)\n",
    "\n",
    "advb_corr_fishers"
   ]
  },
  {
   "cell_type": "markdown",
   "metadata": {},
   "source": [
    "Since $|\\log10(0.05)|$ is $1.3$, we expect a value of $1.3$ for significance. The observed values here do not quite meet that threshold. \n",
    "\n",
    "It's important to recognize that statistical significance in the context of linguistic data needs to be weighed alongside all relevant factors. The fact that we do not find significance here does not automatically mean the difference in the proportions are not meaningful."
   ]
  },
  {
   "cell_type": "markdown",
   "metadata": {},
   "source": [
    "## Verb type position within intonation group, sentence, or paragraph"
   ]
  },
  {
   "cell_type": "markdown",
   "metadata": {},
   "source": [
    "### With first position in intonation group\n",
    "\n",
    "Below we present the raw counts."
   ]
  },
  {
   "cell_type": "code",
   "execution_count": 23,
   "metadata": {},
   "outputs": [
    {
     "data": {
      "text/html": [
       "<div>\n",
       "<style scoped>\n",
       "    .dataframe tbody tr th:only-of-type {\n",
       "        vertical-align: middle;\n",
       "    }\n",
       "\n",
       "    .dataframe tbody tr th {\n",
       "        vertical-align: top;\n",
       "    }\n",
       "\n",
       "    .dataframe thead th {\n",
       "        text-align: right;\n",
       "    }\n",
       "</style>\n",
       "<table border=\"1\" class=\"dataframe\">\n",
       "  <thead>\n",
       "    <tr style=\"text-align: right;\">\n",
       "      <th>inton_first</th>\n",
       "      <th>False</th>\n",
       "      <th>True</th>\n",
       "    </tr>\n",
       "    <tr>\n",
       "      <th>vkind</th>\n",
       "      <th></th>\n",
       "      <th></th>\n",
       "    </tr>\n",
       "  </thead>\n",
       "  <tbody>\n",
       "    <tr>\n",
       "      <th>qtilele</th>\n",
       "      <td>261</td>\n",
       "      <td>552</td>\n",
       "    </tr>\n",
       "    <tr>\n",
       "      <th>qtille</th>\n",
       "      <td>320</td>\n",
       "      <td>458</td>\n",
       "    </tr>\n",
       "  </tbody>\n",
       "</table>\n",
       "</div>"
      ],
      "text/plain": [
       "inton_first  False  True\n",
       "vkind                   \n",
       "qtilele      261    552 \n",
       "qtille       320    458 "
      ]
     },
     "execution_count": 23,
     "metadata": {},
     "output_type": "execute_result"
    }
   ],
   "source": [
    "pos_cor = pd.pivot_table(verb_data, index='vkind', columns=['inton_first'], aggfunc='size')\n",
    "\n",
    "pos_cor"
   ]
  },
  {
   "cell_type": "markdown",
   "metadata": {},
   "source": [
    "And the ratios ($\\%$) follow below. Again, they are calculated across the row, for the verb type."
   ]
  },
  {
   "cell_type": "code",
   "execution_count": 24,
   "metadata": {},
   "outputs": [
    {
     "data": {
      "text/html": [
       "<div>\n",
       "<style scoped>\n",
       "    .dataframe tbody tr th:only-of-type {\n",
       "        vertical-align: middle;\n",
       "    }\n",
       "\n",
       "    .dataframe tbody tr th {\n",
       "        vertical-align: top;\n",
       "    }\n",
       "\n",
       "    .dataframe thead th {\n",
       "        text-align: right;\n",
       "    }\n",
       "</style>\n",
       "<table border=\"1\" class=\"dataframe\">\n",
       "  <thead>\n",
       "    <tr style=\"text-align: right;\">\n",
       "      <th>inton_first</th>\n",
       "      <th>False</th>\n",
       "      <th>True</th>\n",
       "    </tr>\n",
       "    <tr>\n",
       "      <th>vkind</th>\n",
       "      <th></th>\n",
       "      <th></th>\n",
       "    </tr>\n",
       "  </thead>\n",
       "  <tbody>\n",
       "    <tr>\n",
       "      <th>qtilele</th>\n",
       "      <td>0.321033</td>\n",
       "      <td>0.678967</td>\n",
       "    </tr>\n",
       "    <tr>\n",
       "      <th>qtille</th>\n",
       "      <td>0.411311</td>\n",
       "      <td>0.588689</td>\n",
       "    </tr>\n",
       "  </tbody>\n",
       "</table>\n",
       "</div>"
      ],
      "text/plain": [
       "inton_first     False      True\n",
       "vkind                          \n",
       "qtilele      0.321033  0.678967\n",
       "qtille       0.411311  0.588689"
      ]
     },
     "execution_count": 24,
     "metadata": {},
     "output_type": "execute_result"
    }
   ],
   "source": [
    "pos_corr_ratio = pos_cor.div(pos_cor.sum(1), axis=0)\n",
    "\n",
    "pos_corr_ratio"
   ]
  },
  {
   "cell_type": "markdown",
   "metadata": {},
   "source": [
    "We see that the **qtilele** verb has a stronger preference for first position at $68\\%$ versus **qtille** at $59\\%$. Are these differences statistically significant?"
   ]
  },
  {
   "cell_type": "code",
   "execution_count": 25,
   "metadata": {},
   "outputs": [
    {
     "data": {
      "text/html": [
       "<div>\n",
       "<style scoped>\n",
       "    .dataframe tbody tr th:only-of-type {\n",
       "        vertical-align: middle;\n",
       "    }\n",
       "\n",
       "    .dataframe tbody tr th {\n",
       "        vertical-align: top;\n",
       "    }\n",
       "\n",
       "    .dataframe thead th {\n",
       "        text-align: right;\n",
       "    }\n",
       "</style>\n",
       "<table border=\"1\" class=\"dataframe\">\n",
       "  <thead>\n",
       "    <tr style=\"text-align: right;\">\n",
       "      <th></th>\n",
       "      <th>False</th>\n",
       "      <th>True</th>\n",
       "    </tr>\n",
       "  </thead>\n",
       "  <tbody>\n",
       "    <tr>\n",
       "      <th>qtilele</th>\n",
       "      <td>-3.667736</td>\n",
       "      <td>3.667736</td>\n",
       "    </tr>\n",
       "    <tr>\n",
       "      <th>qtille</th>\n",
       "      <td>3.667736</td>\n",
       "      <td>-3.667736</td>\n",
       "    </tr>\n",
       "  </tbody>\n",
       "</table>\n",
       "</div>"
      ],
      "text/plain": [
       "            False      True\n",
       "qtilele -3.667736  3.667736\n",
       "qtille   3.667736 -3.667736"
      ]
     },
     "execution_count": 25,
     "metadata": {},
     "output_type": "execute_result"
    }
   ],
   "source": [
    "pos_corr_fish, pos_corr_odds = apply_fishers(pos_cor, 0, 1)\n",
    "\n",
    "pos_corr_fish"
   ]
  },
  {
   "cell_type": "markdown",
   "metadata": {},
   "source": [
    "Here we see that the values are indeed statistically significant. **We can conclude that qtilele verb has a preference for first position at a rate that is statistically significant.**"
   ]
  },
  {
   "cell_type": "markdown",
   "metadata": {},
   "source": [
    "### With first position in sentence"
   ]
  },
  {
   "cell_type": "code",
   "execution_count": 26,
   "metadata": {},
   "outputs": [
    {
     "data": {
      "text/html": [
       "<div>\n",
       "<style scoped>\n",
       "    .dataframe tbody tr th:only-of-type {\n",
       "        vertical-align: middle;\n",
       "    }\n",
       "\n",
       "    .dataframe tbody tr th {\n",
       "        vertical-align: top;\n",
       "    }\n",
       "\n",
       "    .dataframe thead th {\n",
       "        text-align: right;\n",
       "    }\n",
       "</style>\n",
       "<table border=\"1\" class=\"dataframe\">\n",
       "  <thead>\n",
       "    <tr style=\"text-align: right;\">\n",
       "      <th>sent_first</th>\n",
       "      <th>False</th>\n",
       "      <th>True</th>\n",
       "    </tr>\n",
       "    <tr>\n",
       "      <th>vkind</th>\n",
       "      <th></th>\n",
       "      <th></th>\n",
       "    </tr>\n",
       "  </thead>\n",
       "  <tbody>\n",
       "    <tr>\n",
       "      <th>qtilele</th>\n",
       "      <td>412</td>\n",
       "      <td>401</td>\n",
       "    </tr>\n",
       "    <tr>\n",
       "      <th>qtille</th>\n",
       "      <td>470</td>\n",
       "      <td>308</td>\n",
       "    </tr>\n",
       "  </tbody>\n",
       "</table>\n",
       "</div>"
      ],
      "text/plain": [
       "sent_first  False  True\n",
       "vkind                  \n",
       "qtilele     412    401 \n",
       "qtille      470    308 "
      ]
     },
     "execution_count": 26,
     "metadata": {},
     "output_type": "execute_result"
    }
   ],
   "source": [
    "pos_cor_sent = pd.pivot_table(verb_data, index='vkind', columns=['sent_first'], aggfunc='size')\n",
    "\n",
    "pos_cor_sent"
   ]
  },
  {
   "cell_type": "code",
   "execution_count": 27,
   "metadata": {},
   "outputs": [
    {
     "data": {
      "text/html": [
       "<div>\n",
       "<style scoped>\n",
       "    .dataframe tbody tr th:only-of-type {\n",
       "        vertical-align: middle;\n",
       "    }\n",
       "\n",
       "    .dataframe tbody tr th {\n",
       "        vertical-align: top;\n",
       "    }\n",
       "\n",
       "    .dataframe thead th {\n",
       "        text-align: right;\n",
       "    }\n",
       "</style>\n",
       "<table border=\"1\" class=\"dataframe\">\n",
       "  <thead>\n",
       "    <tr style=\"text-align: right;\">\n",
       "      <th>sent_first</th>\n",
       "      <th>False</th>\n",
       "      <th>True</th>\n",
       "    </tr>\n",
       "    <tr>\n",
       "      <th>vkind</th>\n",
       "      <th></th>\n",
       "      <th></th>\n",
       "    </tr>\n",
       "  </thead>\n",
       "  <tbody>\n",
       "    <tr>\n",
       "      <th>qtilele</th>\n",
       "      <td>0.506765</td>\n",
       "      <td>0.493235</td>\n",
       "    </tr>\n",
       "    <tr>\n",
       "      <th>qtille</th>\n",
       "      <td>0.604113</td>\n",
       "      <td>0.395887</td>\n",
       "    </tr>\n",
       "  </tbody>\n",
       "</table>\n",
       "</div>"
      ],
      "text/plain": [
       "sent_first     False      True\n",
       "vkind                         \n",
       "qtilele     0.506765  0.493235\n",
       "qtille      0.604113  0.395887"
      ]
     },
     "execution_count": 27,
     "metadata": {},
     "output_type": "execute_result"
    }
   ],
   "source": [
    "pos_corr_ratio_sent = pos_cor_sent.div(pos_cor_sent.sum(1), axis=0)\n",
    "\n",
    "pos_corr_ratio_sent"
   ]
  },
  {
   "cell_type": "markdown",
   "metadata": {},
   "source": [
    "### With first position in paragraph\n",
    "\n",
    "For this count, we observe how often the verb form is found in the first sentence of a paragraph."
   ]
  },
  {
   "cell_type": "code",
   "execution_count": 28,
   "metadata": {},
   "outputs": [
    {
     "data": {
      "text/html": [
       "<div>\n",
       "<style scoped>\n",
       "    .dataframe tbody tr th:only-of-type {\n",
       "        vertical-align: middle;\n",
       "    }\n",
       "\n",
       "    .dataframe tbody tr th {\n",
       "        vertical-align: top;\n",
       "    }\n",
       "\n",
       "    .dataframe thead th {\n",
       "        text-align: right;\n",
       "    }\n",
       "</style>\n",
       "<table border=\"1\" class=\"dataframe\">\n",
       "  <thead>\n",
       "    <tr style=\"text-align: right;\">\n",
       "      <th>para_first</th>\n",
       "      <th>False</th>\n",
       "      <th>True</th>\n",
       "    </tr>\n",
       "    <tr>\n",
       "      <th>vkind</th>\n",
       "      <th></th>\n",
       "      <th></th>\n",
       "    </tr>\n",
       "  </thead>\n",
       "  <tbody>\n",
       "    <tr>\n",
       "      <th>qtilele</th>\n",
       "      <td>781</td>\n",
       "      <td>32</td>\n",
       "    </tr>\n",
       "    <tr>\n",
       "      <th>qtille</th>\n",
       "      <td>748</td>\n",
       "      <td>30</td>\n",
       "    </tr>\n",
       "  </tbody>\n",
       "</table>\n",
       "</div>"
      ],
      "text/plain": [
       "para_first  False  True\n",
       "vkind                  \n",
       "qtilele     781    32  \n",
       "qtille      748    30  "
      ]
     },
     "execution_count": 28,
     "metadata": {},
     "output_type": "execute_result"
    }
   ],
   "source": [
    "pos_cor_para = pd.pivot_table(verb_data, index='vkind', columns=['para_first'], aggfunc='size')\n",
    "\n",
    "pos_cor_para"
   ]
  },
  {
   "cell_type": "code",
   "execution_count": 29,
   "metadata": {},
   "outputs": [
    {
     "data": {
      "text/html": [
       "<div>\n",
       "<style scoped>\n",
       "    .dataframe tbody tr th:only-of-type {\n",
       "        vertical-align: middle;\n",
       "    }\n",
       "\n",
       "    .dataframe tbody tr th {\n",
       "        vertical-align: top;\n",
       "    }\n",
       "\n",
       "    .dataframe thead th {\n",
       "        text-align: right;\n",
       "    }\n",
       "</style>\n",
       "<table border=\"1\" class=\"dataframe\">\n",
       "  <thead>\n",
       "    <tr style=\"text-align: right;\">\n",
       "      <th>para_first</th>\n",
       "      <th>False</th>\n",
       "      <th>True</th>\n",
       "    </tr>\n",
       "    <tr>\n",
       "      <th>vkind</th>\n",
       "      <th></th>\n",
       "      <th></th>\n",
       "    </tr>\n",
       "  </thead>\n",
       "  <tbody>\n",
       "    <tr>\n",
       "      <th>qtilele</th>\n",
       "      <td>0.96064</td>\n",
       "      <td>0.03936</td>\n",
       "    </tr>\n",
       "    <tr>\n",
       "      <th>qtille</th>\n",
       "      <td>0.96144</td>\n",
       "      <td>0.03856</td>\n",
       "    </tr>\n",
       "  </tbody>\n",
       "</table>\n",
       "</div>"
      ],
      "text/plain": [
       "para_first    False     True\n",
       "vkind                       \n",
       "qtilele     0.96064  0.03936\n",
       "qtille      0.96144  0.03856"
      ]
     },
     "execution_count": 29,
     "metadata": {},
     "output_type": "execute_result"
    }
   ],
   "source": [
    "pos_corr_ratio_para = pos_cor_para.div(pos_cor_para.sum(1), axis=0)\n",
    "\n",
    "pos_corr_ratio_para"
   ]
  }
 ],
 "metadata": {
  "kernelspec": {
   "display_name": "Python 3",
   "language": "python",
   "name": "python3"
  },
  "language_info": {
   "codemirror_mode": {
    "name": "ipython",
    "version": 3
   },
   "file_extension": ".py",
   "mimetype": "text/x-python",
   "name": "python",
   "nbconvert_exporter": "python",
   "pygments_lexer": "ipython3",
   "version": "3.8.0"
  }
 },
 "nbformat": 4,
 "nbformat_minor": 4
}
